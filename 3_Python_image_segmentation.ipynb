{
 "cells": [
  {
   "cell_type": "markdown",
   "metadata": {},
   "source": [
    "<p style=\"font-family: Arial; font-size:1.75em;color:#003399; font-style:bold\"><br>\n",
    " Segmentacja \n",
    "</p><br>\n",
    "W ostatniej części pokazane zostaną sposoby wyodrębniania obiektów z obrazu oraz określanie ich charakterystyki"
   ]
  },
  {
   "cell_type": "code",
   "execution_count": 1,
   "metadata": {
    "collapsed": true
   },
   "outputs": [],
   "source": [
    "import skimage\n",
    "import matplotlib.pyplot as plt\n",
    "import numpy as np\n",
    "from skimage import io, img_as_ubyte, img_as_float, img_as_int"
   ]
  },
  {
   "cell_type": "code",
   "execution_count": 2,
   "metadata": {},
   "outputs": [
    {
     "name": "stderr",
     "output_type": "stream",
     "text": [
      "C:\\ProgramData\\Anaconda3\\lib\\site-packages\\skimage\\io\\_io.py:49: UserWarning: `as_grey` has been deprecated in favor of `as_gray`\n",
      "  warn('`as_grey` has been deprecated in favor of `as_gray`')\n"
     ]
    }
   ],
   "source": [
    "# Wczytanie obrazu zarejestrowanego o 8.01.2019 9:45:01 przez MSI, Sentinel-2, ESA\n",
    "img = io.imread('S2A_MSIL1C_20190108T095401_N0207_R079_Gozo.tif')\n",
    "gmg = io.imread('S2A_MSIL1C_20190108T095401_N0207_R079_Gozo.tif', as_grey=True) # wczytanie jako 1 czarno-biały kanał\n",
    "\n",
    "red = img[:,:,2]\n",
    "green = img[:,:,1]\n",
    "blue = img[:,:,0]"
   ]
  },
  {
   "cell_type": "code",
   "execution_count": 19,
   "metadata": {},
   "outputs": [
    {
     "name": "stderr",
     "output_type": "stream",
     "text": [
      "C:\\ProgramData\\Anaconda3\\lib\\site-packages\\skimage\\util\\dtype.py:141: UserWarning: Possible precision loss when converting from float64 to uint8\n",
      "  .format(dtypeobj_in, dtypeobj_out))\n"
     ]
    }
   ],
   "source": [
    "from skimage import exposure\n",
    "\n",
    "def contrast_perc(band, d, u):\n",
    "    lower = np.percentile(band,d)\n",
    "    upper = np.percentile(band,u)\n",
    "    rescaled = exposure.rescale_intensity(band,in_range=(lower, upper))\n",
    "    \n",
    "    return(rescaled)\n",
    "\n",
    "# Dopasuj kontrast liniowo pomiędzy percentylami\n",
    "pD = 7; pU = 98\n",
    "perc_red = contrast_perc(red, pD, pU)\n",
    "perc_green = contrast_perc(green, pD, pU)\n",
    "perc_blue = contrast_perc(blue, pD, pU)\n",
    "perc = img_as_float(np.stack([perc_red, perc_green, perc_blue], axis=2))\n",
    "\n",
    "foto = img_as_ubyte(contrast_perc(gmg, 1, 98))\n",
    "\n",
    "fig = plt.figure(figsize=(10,10))\n",
    "ax0 = plt.subplot(121)\n",
    "ax0.imshow(perc)\n",
    "ax0.set_title(\"RGB image\")\n",
    "ax1 = plt.subplot(122)\n",
    "ax1.imshow(foto,cmap=plt.get_cmap('gray'))\n",
    "ax1.set_title(\"Grayscale image\")\n",
    "\n",
    "plt.show()"
   ]
  },
  {
   "cell_type": "markdown",
   "metadata": {},
   "source": [
    "<i>-------Porównanie metod segmentacji-------</i>"
   ]
  },
  {
   "cell_type": "code",
   "execution_count": 20,
   "metadata": {},
   "outputs": [],
   "source": [
    "from skimage.segmentation import felzenszwalb, slic, quickshift, watershed\n",
    "from skimage.segmentation import mark_boundaries\n",
    "\n",
    "fz = felzenszwalb(perc, scale=100, sigma=0.5, min_size=200)\n",
    "slic = slic(perc, n_segments=250, compactness=10, sigma=1)\n",
    "quick = quickshift(perc, kernel_size=9, max_dist=6, ratio=0.2)\n",
    "\n",
    "fig = plt.figure(figsize=(30,30))\n",
    "ax0 = plt.subplot(311)\n",
    "ax0.imshow(mark_boundaries(perc, fz))\n",
    "ax0.set_title(\"Felzenszwalb segmentation\")\n",
    "ax1 = plt.subplot(312)\n",
    "ax1.imshow(mark_boundaries(perc, slic))\n",
    "ax1.set_title(\"SLIC segmentation\")\n",
    "ax2 = plt.subplot(313)\n",
    "ax2.imshow(mark_boundaries(perc, quick))\n",
    "ax2.set_title(\"Quickshift segmentation\")\n",
    "\n",
    "plt.show()"
   ]
  },
  {
   "cell_type": "markdown",
   "metadata": {},
   "source": [
    "<i>-------Porównanie wyników segmentacji w zależności od przygotowania warstw wejściowych-------</i>"
   ]
  },
  {
   "cell_type": "code",
   "execution_count": 5,
   "metadata": {
    "collapsed": true
   },
   "outputs": [],
   "source": [
    "from skimage import exposure\n",
    "from skimage.filters import gaussian, roberts, sobel, sobel_h\n",
    "\n",
    "im = io.imread('S1B_EW_GRDM_1SDH_20180206T050415_Botnicka.tif')\n",
    "aoi = im[4600:5200,3800:4400]\n",
    "ice = exposure.equalize_hist(aoi)\n",
    "\n",
    "# Filtracja wstępna\n",
    "# Usunięcie szumów\n",
    "G = gaussian(ice, sigma=1.5, preserve_range=True) \n",
    "# Dodatkowo wydobycie granic\n",
    "R = roberts(G)                                       "
   ]
  },
  {
   "cell_type": "code",
   "execution_count": 21,
   "metadata": {},
   "outputs": [],
   "source": [
    "from skimage.segmentation import felzenszwalb, mark_boundaries\n",
    "\n",
    "# Segmentacja orginalnego pliku\n",
    "O_fz = felzenszwalb(ice, scale=100, sigma=0.5, min_size=200)\n",
    "# Segmentacja pliku po usunięciu szumów\n",
    "G_fz = felzenszwalb(G, scale=100, sigma=0.5, min_size=200)\n",
    "# Segmentacja pliku po usunięciu szumów i podkreśleniu granic\n",
    "R_fz = felzenszwalb(R, scale=100, sigma=0.5, min_size=200)\n",
    "\n",
    "fig = plt.figure(figsize=(30,30))\n",
    "ax0 = plt.subplot(221)\n",
    "ax0.imshow(mark_boundaries(ice, O_fz))\n",
    "ax0.set_title(\"Felzenszwalb segmentation of the input image\",fontsize=25)\n",
    "ax3 = plt.subplot(222)\n",
    "ax3.imshow(mark_boundaries(exposure.equalize_hist(G), G_fz))\n",
    "ax3.set_title(\"Felzenszwalb segmentation of image after gassian filtration\",fontsize=25)\n",
    "ax6 = plt.subplot(223)\n",
    "ax6.imshow(mark_boundaries(ice, R_fz))\n",
    "ax6.set_title(\"Felzenszwalb segmentationof image after gassian + roberts filtration\",fontsize=25)\n",
    "ax6 = plt.subplot(224)\n",
    "# pokazanie jak wygląda raster wynikowy - osobne ID dla każdego obiektu\n",
    "ax6.imshow(ice,cmap=plt.get_cmap('gray'))\n",
    "ax6.imshow(R_fz,cmap=plt.get_cmap('tab20'),alpha=.7)\n",
    "ax6.set_title(\"Felzenszwalb segmentation\",fontsize=25)\n",
    "\n",
    "\n",
    "plt.show()"
   ]
  },
  {
   "cell_type": "code",
   "execution_count": 22,
   "metadata": {},
   "outputs": [],
   "source": [
    "# Porównanie ilości obiektów wynikowych\n",
    "fig = plt.figure(figsize=(30,30))\n",
    "ax0 = plt.subplot(131)\n",
    "ax0.imshow(O_fz,cmap=plt.get_cmap('tab20'))\n",
    "ax0.set_title(\"Segmented input image: %d segments\" % (len(np.unique(O_fz))),fontsize=25)\n",
    "ax3 = plt.subplot(132)\n",
    "ax3.imshow((G_fz),cmap=plt.get_cmap('tab20'))\n",
    "ax3.set_title(\"Segmented after gaussian filtration: %d segments\" % (len(np.unique(G_fz))),fontsize=25)\n",
    "ax6 = plt.subplot(133)\n",
    "ax6.imshow(R_fz,cmap=plt.get_cmap('tab20'))\n",
    "ax6.set_title(\"Segmented after gaussian + roberts filtration: %d segments\" % (len(np.unique(R_fz))),fontsize=25)\n",
    "\n",
    "plt.tight_layout()\n",
    "plt.show()"
   ]
  },
  {
   "cell_type": "code",
   "execution_count": 23,
   "metadata": {},
   "outputs": [],
   "source": [
    "from matplotlib import colors\n",
    "from skimage.segmentation import find_boundaries\n",
    "\n",
    "# Kontury w postaci maskę rastrowej typu True/False\n",
    "\n",
    "lines_O_fz = find_boundaries(O_fz,mode='inner',background=0)\n",
    "lines_G_fz = find_boundaries(G_fz,mode='inner',background=0)\n",
    "lines_R_fz = find_boundaries(R_fz,mode='inner',background=0)\n",
    "\n",
    "cm = colors.ListedColormap([\"#FFFFFF00\", '#FFFF00'])\n",
    "\n",
    "fig = plt.figure(figsize=(30,30))\n",
    "ax0 = plt.subplot(131)\n",
    "ax0.imshow(ice*0,cmap=plt.get_cmap('gray'))\n",
    "ax0.imshow(lines_O_fz,cmap=cm)\n",
    "ax0.set_title(\"Segmentation of the input image\",fontsize=20)\n",
    "ax1 = plt.subplot(132)\n",
    "ax1.imshow(ice*0,cmap=plt.get_cmap('gray'))\n",
    "ax1.imshow(lines_G_fz,cmap=cm)\n",
    "ax1.set_title(\"Segmentation of image after gassian filtration\",fontsize=20)\n",
    "ax2 = plt.subplot(133)\n",
    "ax2.imshow(ice*0,cmap=plt.get_cmap('gray'))\n",
    "ax2.imshow(lines_R_fz,cmap=cm)\n",
    "ax2.set_title(\"Segmentationof image after gassian + roberts filtration\",fontsize=20)\n",
    "\n",
    "plt.tight_layout()\n",
    "plt.show()"
   ]
  },
  {
   "cell_type": "code",
   "execution_count": 24,
   "metadata": {},
   "outputs": [],
   "source": [
    "from skimage import measure\n",
    "\n",
    "# Kontury jako linie (wektorowo)\n",
    "\n",
    "contours = measure.find_contours(G, 0.37)\n",
    "\n",
    "fig, ax = plt.subplots(figsize=(10,10))\n",
    "ax.imshow(G,cmap=plt.get_cmap('gray'))\n",
    "\n",
    "for contour in contours:\n",
    "    ax.plot(contour[:, 1], contour[:, 0], linewidth=2, color='yellow')\n",
    "\n",
    "plt.show()\n",
    "print(type(contours))"
   ]
  },
  {
   "cell_type": "markdown",
   "metadata": {},
   "source": [
    "<i>-------Charakterystyka obiektów-------</i>"
   ]
  },
  {
   "cell_type": "code",
   "execution_count": 25,
   "metadata": {},
   "outputs": [],
   "source": [
    "from skimage.measure import label, regionprops\n",
    "\n",
    "regions = G_fz\n",
    "label_img = label(regions)\n",
    "all_properties = regionprops(label_img, intensity_image=ice)\n",
    "\n",
    "for region in all_properties:\n",
    "    print(\"ID: %3d, area: %5d, eccentricity: %3.3f, solidity: %3.3f, mean intensity: %3.3f\" \n",
    "          % (region.label,region.area,region.eccentricity,region.solidity,region.mean_intensity))"
   ]
  },
  {
   "cell_type": "code",
   "execution_count": 26,
   "metadata": {},
   "outputs": [],
   "source": [
    "from skimage import img_as_bool, io, color, morphology\n",
    "\n",
    "# Tworzenie linii szkieletowych obiektów - sprawdzanie rozgałęzienia\n",
    "skeleton = morphology.medial_axis(R_fz)\n",
    "\n",
    "cm = colors.ListedColormap([\"#FFFFFF00\", '#FFFF00'])\n",
    "\n",
    "fig = plt.figure(figsize=(10,10))\n",
    "ax0 = plt.subplot()\n",
    "ax0.imshow(R_fz,cmap=plt.get_cmap('gray'))\n",
    "ax0.imshow(skeleton,cmap=cm)\n",
    "plt.show()"
   ]
  },
  {
   "cell_type": "markdown",
   "metadata": {},
   "source": [
    "<i>-------Prosta klasyfikacja obiektów-------</i>"
   ]
  },
  {
   "cell_type": "code",
   "execution_count": 27,
   "metadata": {},
   "outputs": [],
   "source": [
    "#area, mean_intensity\n",
    "criterion = [region.mean_intensity for region in all_properties]\n",
    "plt.hist(criterion,bins=30)\n",
    "plt.show()"
   ]
  },
  {
   "cell_type": "code",
   "execution_count": 29,
   "metadata": {},
   "outputs": [],
   "source": [
    "from sklearn.cluster import KMeans\n",
    "\n",
    "model = KMeans(n_clusters=3)\n",
    "criterion = np.array(criterion).reshape(-1,1)\n",
    "model.fit(criterion)\n",
    "#print(model.cluster_centers_)\n",
    "\n",
    "region_labels = model.predict(criterion)\n",
    "\n",
    "classes = label_img.copy()\n",
    "for class_id,region in zip(region_labels, all_properties):\n",
    "    classes[tuple(region.coords.T)] = class_id\n",
    "\n",
    "fig = plt.figure(figsize=(10,10))\n",
    "ax0 = plt.subplot(121)\n",
    "ax0.imshow(ice,cmap=plt.get_cmap('gray'))\n",
    "ax0.imshow(classes,cmap=plt.get_cmap('tab20'),alpha=.7)\n",
    "ax0.set_title(\"Classified image\",fontsize=15)\n",
    "ax3 = plt.subplot(122)\n",
    "ax3.imshow(ice,cmap=plt.get_cmap('gray'))\n",
    "ax3.set_title(\"Starting image\",fontsize=15)\n",
    "\n",
    "plt.show()"
   ]
  },
  {
   "cell_type": "markdown",
   "metadata": {},
   "source": [
    "<i>-------Detekcja jasnych obiektów na przykładzie chmur-------</i>"
   ]
  },
  {
   "cell_type": "code",
   "execution_count": 17,
   "metadata": {},
   "outputs": [
    {
     "name": "stderr",
     "output_type": "stream",
     "text": [
      "C:\\ProgramData\\Anaconda3\\lib\\site-packages\\skimage\\io\\_io.py:49: UserWarning: `as_grey` has been deprecated in favor of `as_gray`\n",
      "  warn('`as_grey` has been deprecated in favor of `as_gray`')\n",
      "C:\\ProgramData\\Anaconda3\\lib\\site-packages\\skimage\\util\\dtype.py:141: UserWarning: Possible precision loss when converting from float64 to uint8\n",
      "  .format(dtypeobj_in, dtypeobj_out))\n"
     ]
    }
   ],
   "source": [
    "# Wczytanie obrazu zarejestrowanego o 25.09.2018 9:50:29 przez MSI, Sentinel-2, ESA\n",
    "from skimage import exposure, transform\n",
    "\n",
    "gmg = io.imread('S2B_MSIL1C_20180925T095029_N0206_R079_clouds.tif', as_grey=True)\n",
    "\n",
    "foto = img_as_ubyte(contrast_perc(gmg, 1, 98))\n",
    "# subsampling\n",
    "n = 6\n",
    "clouds = transform.downscale_local_mean(foto,(n,n))"
   ]
  },
  {
   "cell_type": "code",
   "execution_count": 30,
   "metadata": {},
   "outputs": [],
   "source": [
    "from skimage import measure\n",
    "\n",
    "# Znajdż kontury i zapisz jako linię (wektorowo)\n",
    "\n",
    "contours = measure.find_contours(clouds, 40)\n",
    "\n",
    "fig, ax = plt.subplots(figsize=(10,10))\n",
    "ax.imshow(clouds,cmap=plt.get_cmap('gray'))\n",
    "\n",
    "for contour in contours:\n",
    "    ax.plot(contour[:, 1], contour[:, 0], linewidth=1, color='cyan')\n",
    "\n",
    "plt.show()\n",
    "print(type(contours))"
   ]
  },
  {
   "cell_type": "code",
   "execution_count": 31,
   "metadata": {},
   "outputs": [],
   "source": [
    "from skimage.feature import blob_dog, blob_log, blob_doh\n",
    "import math\n",
    "\n",
    "def radius(sigma):\n",
    "    return(math.sqrt(2) * sigma)\n",
    "\n",
    "# blobs_log[row,column,sigma], gdzie promień = sqrt(2) * sigma\n",
    "blobs_log = blob_log(foto, min_sigma=1, max_sigma=100)\n",
    "blobs_doh = blob_doh(foto, min_sigma=0.02, max_sigma=50)\n",
    "blobs_dog = blob_dog(foto, min_sigma=1, max_sigma=100, threshold=.01)\n",
    "\n",
    "# oblicz promień\n",
    "for blobtype in (blobs_log,blobs_doh,blobs_dog):\n",
    "    if blobtype.shape[0] > 0:\n",
    "        blobtype[:,2] = radius(blobtype[:,2])\n",
    "\n",
    "fig = plt.figure(figsize=(30,30))\n",
    "\n",
    "ax3 = plt.subplot(221)\n",
    "ax3.imshow(foto,cmap=plt.get_cmap('gray'))\n",
    "ax3.set_title(\"Grayscale image\",fontsize=20)\n",
    "\n",
    "ax0 = plt.subplot(222)\n",
    "ax0.imshow(foto,cmap=plt.get_cmap('gray'))\n",
    "ax0.set_title('Laplacian of Gaussian',fontsize=20)\n",
    "for b in blobs_log:\n",
    "    O = plt.Circle((b[1], b[0]), b[2], color='lightgreen', fill=False)#, linewidth=2) \n",
    "    ax0.add_patch(O)\n",
    "\n",
    "ax1 = plt.subplot(223)\n",
    "ax1.imshow(foto,cmap=plt.get_cmap('gray'))\n",
    "ax1.set_title('Determinant of Hessian',fontsize=20)\n",
    "for b in blobs_doh:\n",
    "    O = plt.Circle((b[1], b[0]), b[2], color='red', fill=False)#, linewidth=2) \n",
    "    ax1.add_patch(O)\n",
    "\n",
    "ax2 = plt.subplot(224)\n",
    "ax2.imshow(foto,cmap=plt.get_cmap('gray'))\n",
    "ax2.set_title('Difference of Gaussian',fontsize=20)\n",
    "for b in blobs_dog:\n",
    "    O = plt.Circle((b[1], b[0]), b[2], color='yellow', fill=False)#, linewidth=2) \n",
    "    ax2.add_patch(O)\n",
    "\n",
    "\n",
    "plt.show()"
   ]
  }
 ],
 "metadata": {
  "kernelspec": {
   "display_name": "Python 3",
   "language": "python",
   "name": "python3"
  },
  "language_info": {
   "codemirror_mode": {
    "name": "ipython",
    "version": 3
   },
   "file_extension": ".py",
   "mimetype": "text/x-python",
   "name": "python",
   "nbconvert_exporter": "python",
   "pygments_lexer": "ipython3",
   "version": "3.6.3"
  }
 },
 "nbformat": 4,
 "nbformat_minor": 2
}
