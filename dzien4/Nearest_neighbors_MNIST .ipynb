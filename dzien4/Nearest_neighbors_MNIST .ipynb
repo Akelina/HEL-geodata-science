{
 "cells": [
  {
   "cell_type": "markdown",
   "metadata": {},
   "source": [
    "# Nearest neighbor do rozpoznawania ręcznego pisma\n",
    "\n"
   ]
  },
  {
   "cell_type": "markdown",
   "metadata": {},
   "source": [
    "## 1. The MNIST dataset\n",
    "\n",
    "`MNIST` jest klasycznym zbiorem danych w machine learning, składa się z 28x28 gray-scale obrazów ręczne pisanych cyfr. Oryginalny zbiór treningowy zawiera 60000 przykladów a zbiór testowy zawiera 10000 przykladów. W tym notebooku będziemy pracować z podzbiorem tych danych: zbiór treningowy zawiera 7500 przykładów a zbiór testowy 1000 przykladów."
   ]
  },
  {
   "cell_type": "code",
   "execution_count": 1,
   "metadata": {},
   "outputs": [],
   "source": [
    "import numpy as np\n",
    "import matplotlib.pyplot as plt \n",
    "import time\n",
    "\n",
    "## Load the training set\n",
    "train_data = np.load('MNIST/mnist_train_data.npy')\n",
    "train_labels = np.load('MNIST/mnist_train_labels.npy')\n",
    "\n",
    "## Load the testing set\n",
    "test_data = np.load('MNIST/mnist_test_data.npy')\n",
    "test_labels = np.load('MNIST/mnist_test_labels.npy')"
   ]
  },
  {
   "cell_type": "code",
   "execution_count": 2,
   "metadata": {},
   "outputs": [
    {
     "name": "stdout",
     "output_type": "stream",
     "text": [
      "Training dataset dimensions:  (7500, 784)\n",
      "Number of training labels:  7500\n",
      "Testing dataset dimensions:  (1000, 784)\n",
      "Number of testing labels:  1000\n"
     ]
    }
   ],
   "source": [
    "## Print out their dimensions\n",
    "print(\"Training dataset dimensions: \", np.shape(train_data))\n",
    "print(\"Number of training labels: \", len(train_labels))\n",
    "print(\"Testing dataset dimensions: \", np.shape(test_data))\n",
    "print(\"Number of testing labels: \", len(test_labels))"
   ]
  },
  {
   "cell_type": "code",
   "execution_count": 3,
   "metadata": {},
   "outputs": [
    {
     "name": "stdout",
     "output_type": "stream",
     "text": [
      "Training set distribution:\n",
      "{0: 750, 1: 750, 2: 750, 3: 750, 4: 750, 5: 750, 6: 750, 7: 750, 8: 750, 9: 750}\n",
      "Test set distribution:\n",
      "{0: 100, 1: 100, 2: 100, 3: 100, 4: 100, 5: 100, 6: 100, 7: 100, 8: 100, 9: 100}\n",
      "<class 'numpy.ndarray'>\n",
      "(10,)\n"
     ]
    }
   ],
   "source": [
    "## Compute the number of examples of each digit\n",
    "train_digits, train_counts = np.unique(train_labels, return_counts=True)\n",
    "print(\"Training set distribution:\")\n",
    "print(dict(zip(train_digits, train_counts)))\n",
    "\n",
    "test_digits, test_counts = np.unique(test_labels, return_counts=True)\n",
    "print(\"Test set distribution:\")\n",
    "print(dict(zip(test_digits, test_counts)))\n",
    "\n",
    "print(type(train_digits))\n",
    "print(np.shape(train_digits))"
   ]
  },
  {
   "cell_type": "markdown",
   "metadata": {},
   "source": [
    "## 2. Visualizing the data\n",
    "Each data point is stored as 784-dimensional vector. To visualize a data point, we first reshape it to a 28x28 image."
   ]
  },
  {
   "cell_type": "code",
   "execution_count": 5,
   "metadata": {},
   "outputs": [
    {
     "data": {
      "image/png": "[encoded data removed]",
      "text/plain": [
       "<Figure size 432x288 with 1 Axes>"
      ]
     },
     "metadata": {},
     "output_type": "display_data"
    },
    {
     "name": "stdout",
     "output_type": "stream",
     "text": [
      "Label 8\n"
     ]
    },
    {
     "data": {
      "image/png": "[encoded data removed]",
      "text/plain": [
       "<Figure size 432x288 with 1 Axes>"
      ]
     },
     "metadata": {},
     "output_type": "display_data"
    },
    {
     "name": "stdout",
     "output_type": "stream",
     "text": [
      "Label 9\n"
     ]
    }
   ],
   "source": [
    "## Define a function that displays a digit given its vector representation\n",
    "def show_digit(x):\n",
    "    plt.axis('off')\n",
    "    plt.imshow(x.reshape(28,28), cmap=plt.cm.gray)\n",
    "    plt.show()\n",
    "    return\n",
    "\n",
    "## Define a function that takes an index into a particular data set (\"train\" or \"test\") and displays that image.\n",
    "def vis_image(index, dataset=\"train\"):\n",
    "    if(dataset==\"train\"): \n",
    "        show_digit(train_data[index,])\n",
    "        label = train_labels[index]\n",
    "    else:\n",
    "        show_digit(test_data[index,])\n",
    "        label = test_labels[index]\n",
    "    print(\"Label \" + str(label))\n",
    "    return\n",
    "\n",
    "## View the first data point in the training set\n",
    "vis_image(300, \"train\")\n",
    "\n",
    "## Now view the first data point in the test set\n",
    "vis_image(300, \"test\")"
   ]
  },
  {
   "cell_type": "markdown",
   "metadata": {
    "collapsed": true
   },
   "source": [
    "## 3. Squared Euclidean distance ##  \n",
    "(przykład formatowania w jupiterze)\n",
    "\n",
    "Aby obliczyć nearest neighbors w naszym zbiorze danych, po pierwsze musimy mieć możliwość obliczenia dystansu pomiędzy punktami danych (wektorami). Naturalną funkcją dystansu jest  _Euclidean distance_: dla dwóch wektorów $x, y \\in \\mathbb{R}^d$, ich dystans Euklidesowy jest zdefiniowany jako \n",
    "$$\\|x - y\\| = \\sqrt{\\sum_{i=1}^d (x_i - y_i)^2}.$$\n",
    "Często omijamy pierwiastek kwadratowy i obliczamy po prostu  _squared Euclidean distance_:\n",
    "$$\\|x - y\\|^2 = \\sum_{i=1}^d (x_i - y_i)^2.$$\n",
    "Oba sposoby obliczeń mają taki sam sens dla nearest neighbor \n"
   ]
  },
  {
   "cell_type": "markdown",
   "metadata": {},
   "source": [
    "## 4. Wykorzystanie sklearn do klasyfikacji K-Nearest Neighbors##  "
   ]
  },
  {
   "cell_type": "code",
   "execution_count": 6,
   "metadata": {},
   "outputs": [],
   "source": [
    "from sklearn.neighbors import KNeighborsClassifier"
   ]
  },
  {
   "cell_type": "code",
   "execution_count": 7,
   "metadata": {},
   "outputs": [],
   "source": [
    "knn = KNeighborsClassifier(n_neighbors=3)"
   ]
  },
  {
   "cell_type": "code",
   "execution_count": 8,
   "metadata": {},
   "outputs": [
    {
     "data": {
      "text/plain": [
       "KNeighborsClassifier(algorithm='auto', leaf_size=30, metric='minkowski',\n",
       "           metric_params=None, n_jobs=None, n_neighbors=3, p=2,\n",
       "           weights='uniform')"
      ]
     },
     "execution_count": 8,
     "metadata": {},
     "output_type": "execute_result"
    }
   ],
   "source": [
    "knn.fit(train_data,train_labels)"
   ]
  },
  {
   "cell_type": "code",
   "execution_count": 9,
   "metadata": {},
   "outputs": [],
   "source": [
    "pred=knn.predict(test_data)"
   ]
  },
  {
   "cell_type": "code",
   "execution_count": 10,
   "metadata": {},
   "outputs": [
    {
     "name": "stdout",
     "output_type": "stream",
     "text": [
      "[0 2 6 5 9 6 0 7 1 1 4 6 7 7 5 7 7 1 0 0 0 0 0 5 3 6 4 9 5 4 7 7 5 2 6 5 9\n",
      " 8 7 3 2 4 3 6 3 2 2 7 1 1 5 1 0 6 4 5 9 4 6 4 3 5 0 6 1 2 9 3 3 6 1 2 0 7\n",
      " 6 3 7 1 3 7 4 7 4 2 8 4 1 5 7 5 3 4 5 2 7 0 0 5 7 8]\n",
      "\n",
      "[0 2 6 5 9 6 0 7 1 1 4 6 7 7 5 7 7 7 0 0 0 0 0 5 3 6 4 9 5 4 7 7 5 2 6 8 9\n",
      " 8 7 3 2 4 3 6 3 2 2 2 1 1 5 1 0 6 4 5 9 4 6 4 3 5 0 6 1 2 9 3 3 6 1 2 0 7\n",
      " 6 3 7 1 3 7 4 7 4 2 8 4 1 5 8 5 3 4 5 2 7 0 0 5 7 8]\n"
     ]
    }
   ],
   "source": [
    "print(pred[0:100])\n",
    "print()\n",
    "print(test_labels[0:100])"
   ]
  },
  {
   "cell_type": "markdown",
   "metadata": {},
   "source": [
    "### Ewaluacja"
   ]
  },
  {
   "cell_type": "code",
   "execution_count": 11,
   "metadata": {},
   "outputs": [],
   "source": [
    "from sklearn.metrics import classification_report,confusion_matrix"
   ]
  },
  {
   "cell_type": "code",
   "execution_count": 12,
   "metadata": {},
   "outputs": [
    {
     "name": "stdout",
     "output_type": "stream",
     "text": [
      "[[100   0   0   0   0   0   0   0   0   0]\n",
      " [  0 100   0   0   0   0   0   0   0   0]\n",
      " [  0   1  98   0   0   0   0   1   0   0]\n",
      " [  0   0   2  94   1   3   0   0   0   0]\n",
      " [  0   1   0   0  97   0   1   0   0   1]\n",
      " [  1   0   0   0   0  96   2   0   0   1]\n",
      " [  1   0   0   0   0   0  99   0   0   0]\n",
      " [  0   6   0   0   1   0   0  91   0   2]\n",
      " [  4   0   2   2   3   2   0   1  85   1]\n",
      " [  1   2   1   2   2   1   0   3   0  88]]\n"
     ]
    }
   ],
   "source": [
    "print(confusion_matrix(test_labels,pred))   # rows- true, columns - predicted"
   ]
  },
  {
   "cell_type": "code",
   "execution_count": 13,
   "metadata": {},
   "outputs": [
    {
     "name": "stdout",
     "output_type": "stream",
     "text": [
      "              precision    recall  f1-score   support\n",
      "\n",
      "           0       0.93      1.00      0.97       100\n",
      "           1       0.91      1.00      0.95       100\n",
      "           2       0.95      0.98      0.97       100\n",
      "           3       0.96      0.94      0.95       100\n",
      "           4       0.93      0.97      0.95       100\n",
      "           5       0.94      0.96      0.95       100\n",
      "           6       0.97      0.99      0.98       100\n",
      "           7       0.95      0.91      0.93       100\n",
      "           8       1.00      0.85      0.92       100\n",
      "           9       0.95      0.88      0.91       100\n",
      "\n",
      "   micro avg       0.95      0.95      0.95      1000\n",
      "   macro avg       0.95      0.95      0.95      1000\n",
      "weighted avg       0.95      0.95      0.95      1000\n",
      "\n"
     ]
    }
   ],
   "source": [
    "print(classification_report(test_labels,pred))    # mean recall = macro avg"
   ]
  },
  {
   "cell_type": "markdown",
   "metadata": {},
   "source": [
    "### Wyznaczenie optymalnej wartości k"
   ]
  },
  {
   "cell_type": "code",
   "execution_count": 14,
   "metadata": {},
   "outputs": [],
   "source": [
    "error_rate = []\n",
    "\n",
    "\n",
    "for i in range(1,15):\n",
    "    \n",
    "    knn = KNeighborsClassifier(n_neighbors=i)\n",
    "    knn.fit(train_data,train_labels)\n",
    "    pred_i = knn.predict(test_data)\n",
    "    error_rate.append(np.mean(pred_i != test_labels))"
   ]
  },
  {
   "cell_type": "code",
   "execution_count": 15,
   "metadata": {},
   "outputs": [
    {
     "data": {
      "image/png": "[encoded data removed]",
      "text/plain": [
       "<Figure size 720x432 with 1 Axes>"
      ]
     },
     "metadata": {},
     "output_type": "display_data"
    }
   ],
   "source": [
    "plt.figure(figsize=(10,6))\n",
    "plt.plot(range(1,15),error_rate,color='blue', linestyle='dashed', marker='o',\n",
    "         markerfacecolor='red', markersize=10)\n",
    "plt.title('Error Rate vs. K Value')\n",
    "plt.xlabel('K')\n",
    "plt.ylabel('Error Rate');"
   ]
  },
  {
   "cell_type": "code",
   "execution_count": null,
   "metadata": {},
   "outputs": [],
   "source": []
  }
 ],
 "metadata": {
  "anaconda-cloud": {},
  "kernelspec": {
   "display_name": "Python 3",
   "language": "python",
   "name": "python3"
  },
  "language_info": {
   "codemirror_mode": {
    "name": "ipython",
    "version": 3
   },
   "file_extension": ".py",
   "mimetype": "text/x-python",
   "name": "python",
   "nbconvert_exporter": "python",
   "pygments_lexer": "ipython3",
   "version": "3.6.5"
  },
  "toc": {
   "colors": {
    "hover_highlight": "#DAA520",
    "navigate_num": "#000000",
    "navigate_text": "#333333",
    "running_highlight": "#FF0000",
    "selected_highlight": "#FFD700",
    "sidebar_border": "#EEEEEE",
    "wrapper_background": "#FFFFFF"
   },
   "moveMenuLeft": true,
   "nav_menu": {
    "height": "153px",
    "width": "252px"
   },
   "navigate_menu": true,
   "number_sections": false,
   "sideBar": true,
   "threshold": 4,
   "toc_cell": false,
   "toc_section_display": "block",
   "toc_window_display": false,
   "widenNotebook": false
  }
 },
 "nbformat": 4,
 "nbformat_minor": 1
}
