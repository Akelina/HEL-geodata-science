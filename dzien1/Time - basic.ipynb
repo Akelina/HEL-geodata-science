{
 "cells": [
  {
   "cell_type": "markdown",
   "metadata": {},
   "source": [
    "### Analiza czasu"
   ]
  },
  {
   "cell_type": "code",
   "execution_count": 2,
   "metadata": {},
   "outputs": [],
   "source": [
    "import time\n",
    "import datetime\n",
    "import calendar"
   ]
  },
  {
   "cell_type": "markdown",
   "metadata": {},
   "source": [
    "Istotnym pojeciem w pracy z czasem jest pojęcie **epoch**, jest to punkt startowy, który możemy sprawdzić dla naszego systemu za pomocą:"
   ]
  },
  {
   "cell_type": "code",
   "execution_count": 3,
   "metadata": {},
   "outputs": [
    {
     "data": {
      "text/plain": [
       "time.struct_time(tm_year=1970, tm_mon=1, tm_mday=1, tm_hour=0, tm_min=0, tm_sec=0, tm_wday=3, tm_yday=1, tm_isdst=0)"
      ]
     },
     "execution_count": 3,
     "metadata": {},
     "output_type": "execute_result"
    }
   ],
   "source": [
    "time.gmtime(0)"
   ]
  },
  {
   "cell_type": "markdown",
   "metadata": {},
   "source": [
    "Funkcja **time.time()**  okresla liczbę sekund od epoch."
   ]
  },
  {
   "cell_type": "code",
   "execution_count": 4,
   "metadata": {},
   "outputs": [
    {
     "data": {
      "text/plain": [
       "1556379814.5482132"
      ]
     },
     "execution_count": 4,
     "metadata": {},
     "output_type": "execute_result"
    }
   ],
   "source": [
    "time.time()"
   ]
  },
  {
   "cell_type": "code",
   "execution_count": 5,
   "metadata": {},
   "outputs": [
    {
     "data": {
      "text/plain": [
       "'Sat Apr 27 17:44:13 2019'"
      ]
     },
     "execution_count": 5,
     "metadata": {},
     "output_type": "execute_result"
    }
   ],
   "source": [
    "#  aktualny czas zależnie od położenia geograficznego  \n",
    "\n",
    "time.ctime()"
   ]
  },
  {
   "cell_type": "markdown",
   "metadata": {},
   "source": [
    "String reprezentujący czas zwracany przez *ctime* nosi nazwę **timestamp** i jest formatowany w następującą strukturę:\n",
    "\n",
    "1. Day of the week: Mon ...\n",
    "2. Month of the year: May .....\n",
    "3. Day of month: 7\n",
    "4. Hours, minutes, seconds using 24-hour clock notation\n",
    "5. Year:\n",
    "\n",
    "Czas zależny od aktualnego położenia jest nazywany **local time** i wykorzystuje koncepcję **time zones** \n",
    "\n",
    "UTC (Coordinated Universal Time)   standardowy czasu. Strefy czasowe są określane przez *offset* do UTC.\n",
    "\n",
    "Daylight Savings Time   (S - standard time, D - daylight saving time)\n",
    "\n",
    "Odczytywanie czasu (za pomocą obiektu struct_time):\n"
   ]
  },
  {
   "cell_type": "code",
   "execution_count": 6,
   "metadata": {},
   "outputs": [
    {
     "name": "stdout",
     "output_type": "stream",
     "text": [
      "time.struct_time(tm_year=2019, tm_mon=4, tm_mday=27, tm_hour=17, tm_min=44, tm_sec=54, tm_wday=5, tm_yday=117, tm_isdst=1)\n",
      "?rodkowoeuropejski czas letni\n",
      "7200\n",
      "1\n",
      "time.struct_time(tm_year=2019, tm_mon=4, tm_mday=27, tm_hour=15, tm_min=44, tm_sec=54, tm_wday=5, tm_yday=117, tm_isdst=0)\n",
      "time.struct_time(tm_year=2019, tm_mon=4, tm_mday=27, tm_hour=17, tm_min=44, tm_sec=54, tm_wday=5, tm_yday=117, tm_isdst=1)\n",
      "27\n"
     ]
    }
   ],
   "source": [
    "print(time.localtime())\n",
    "print(time.localtime().tm_zone)\n",
    "print(time.localtime().tm_gmtoff)   # offset w sekundach\n",
    "print(time.localtime().tm_isdst)\n",
    "print(time.gmtime())\n",
    "time_tuple=time.localtime()\n",
    "print(time_tuple) # tm_isdst     1- is daylight savings time, 0 - is standard time -1 is unknown\n",
    "print(time_tuple[2])"
   ]
  },
  {
   "cell_type": "code",
   "execution_count": 7,
   "metadata": {},
   "outputs": [],
   "source": [
    "# tworzenie obiektu struct_time\n",
    "\n",
    "czas1=(2016,2,1,10,20,0,0,0,0)\n",
    "time_obj=time.struct_time(czas1)"
   ]
  },
  {
   "cell_type": "code",
   "execution_count": 8,
   "metadata": {},
   "outputs": [
    {
     "data": {
      "text/plain": [
       "time.struct_time(tm_year=2016, tm_mon=2, tm_mday=1, tm_hour=10, tm_min=20, tm_sec=0, tm_wday=0, tm_yday=0, tm_isdst=0)"
      ]
     },
     "execution_count": 8,
     "metadata": {},
     "output_type": "execute_result"
    }
   ],
   "source": [
    "time_obj"
   ]
  },
  {
   "cell_type": "code",
   "execution_count": 9,
   "metadata": {},
   "outputs": [
    {
     "data": {
      "text/plain": [
       "1"
      ]
     },
     "execution_count": 9,
     "metadata": {},
     "output_type": "execute_result"
    }
   ],
   "source": [
    "# dzien tygodna\n",
    "calendar.weekday(2016,2,2)    # 0 - Monday"
   ]
  },
  {
   "cell_type": "code",
   "execution_count": 10,
   "metadata": {},
   "outputs": [
    {
     "data": {
      "text/plain": [
       "242"
      ]
     },
     "execution_count": 10,
     "metadata": {},
     "output_type": "execute_result"
    }
   ],
   "source": [
    "# dzien roku\n",
    "tt=datetime.datetime(2019,1,1)\n",
    "tt0=datetime.datetime(2019,8,30)\n",
    "dt=tt0-tt\n",
    "dt.days+1"
   ]
  },
  {
   "cell_type": "code",
   "execution_count": 11,
   "metadata": {},
   "outputs": [
    {
     "data": {
      "text/plain": [
       "1556379894.0"
      ]
     },
     "execution_count": 11,
     "metadata": {},
     "output_type": "execute_result"
    }
   ],
   "source": [
    "# converting local time ! object to seconds\n",
    "\n",
    "time.mktime(time_tuple)"
   ]
  },
  {
   "cell_type": "code",
   "execution_count": null,
   "metadata": {},
   "outputs": [],
   "source": []
  }
 ],
 "metadata": {
  "kernelspec": {
   "display_name": "Python 3",
   "language": "python",
   "name": "python3"
  },
  "language_info": {
   "codemirror_mode": {
    "name": "ipython",
    "version": 3
   },
   "file_extension": ".py",
   "mimetype": "text/x-python",
   "name": "python",
   "nbconvert_exporter": "python",
   "pygments_lexer": "ipython3",
   "version": "3.6.5"
  }
 },
 "nbformat": 4,
 "nbformat_minor": 2
}
