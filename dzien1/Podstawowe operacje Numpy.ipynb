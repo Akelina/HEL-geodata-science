{
 "cells": [
  {
   "cell_type": "markdown",
   "metadata": {},
   "source": [
    "## numpy ##"
   ]
  },
  {
   "cell_type": "code",
   "execution_count": 32,
   "metadata": {},
   "outputs": [
    {
     "name": "stdout",
     "output_type": "stream",
     "text": [
      "1.14.2\n"
     ]
    }
   ],
   "source": [
    "import matplotlib.pyplot as plt\n",
    "import numpy as np\n",
    "print(np.__version__)"
   ]
  },
  {
   "cell_type": "markdown",
   "metadata": {},
   "source": [
    "Pakiet (moduł) **numpy** jest wykorzystywany w prawie wszystkich numerycznych obliczeniach w Pythonie. Pakiet ten definiuje wektory, macierze i wielowymiarowe struktury danych oraz zapewnia wysoką wydajność pracy. Został napisany w C i Fortranie dzięki temu kiedy obliczenia są wektoryzowane (sformułowane za pomocą wektorów i macierzy) ich realizacja jest bardzo efektywna.\n",
    "W pakiecie tym wektory, macierze i wielowymiarowe struktury danych są określane jako **array**."
   ]
  },
  {
   "cell_type": "markdown",
   "metadata": {},
   "source": [
    "### Tworzenie numpy arrays ###"
   ]
  },
  {
   "cell_type": "code",
   "execution_count": 2,
   "metadata": {},
   "outputs": [
    {
     "data": {
      "text/plain": [
       "array([1, 2, 3, 4])"
      ]
     },
     "execution_count": 2,
     "metadata": {},
     "output_type": "execute_result"
    }
   ],
   "source": [
    "# wektor - funkcja array(argumentem jest Pythonowa lista)\n",
    "v=np.array([1,2,3,4])\n",
    "v"
   ]
  },
  {
   "cell_type": "code",
   "execution_count": 3,
   "metadata": {},
   "outputs": [
    {
     "data": {
      "text/plain": [
       "numpy.ndarray"
      ]
     },
     "execution_count": 3,
     "metadata": {},
     "output_type": "execute_result"
    }
   ],
   "source": [
    "# jaki jest typ v\n",
    "type(v)"
   ]
  },
  {
   "cell_type": "markdown",
   "metadata": {},
   "source": [
    "ndarray = n-dimensional arrays"
   ]
  },
  {
   "cell_type": "code",
   "execution_count": 4,
   "metadata": {},
   "outputs": [
    {
     "data": {
      "text/plain": [
       "4"
      ]
     },
     "execution_count": 4,
     "metadata": {},
     "output_type": "execute_result"
    }
   ],
   "source": [
    "# ile zwaiera elementów\n",
    "np.size(v)"
   ]
  },
  {
   "cell_type": "code",
   "execution_count": 5,
   "metadata": {},
   "outputs": [
    {
     "data": {
      "text/plain": [
       "array([[1, 2],\n",
       "       [3, 4],\n",
       "       [5, 6]])"
      ]
     },
     "execution_count": 5,
     "metadata": {},
     "output_type": "execute_result"
    }
   ],
   "source": [
    "# macierz - funkcja array(argumentem jest Pythonowa lista list)\n",
    "M=np.array([[1,2],[3,4],[5,6]])\n",
    "M"
   ]
  },
  {
   "cell_type": "code",
   "execution_count": 6,
   "metadata": {},
   "outputs": [
    {
     "name": "stdout",
     "output_type": "stream",
     "text": [
      "[0 0 0 0 0 0 0 0 0 0]\n",
      "[0 1 2 3 4 5 6 7 8 9]\n",
      "[0 1 2 3 4 5 6 7 8 9]\n",
      "[0 2 4 6 8]\n",
      "[10  9  8  7  6  5  4  3  2  1]\n",
      "[ 0.          0.90909091  1.81818182  2.72727273  3.63636364  4.54545455\n",
      "  5.45454545  6.36363636  7.27272727  8.18181818  9.09090909 10.        ]\n"
     ]
    }
   ],
   "source": [
    "# inne sposoby tworzenia ndarray\n",
    "\n",
    "a3=np.array([0]*10)\n",
    "a4=np.array(range(10))\n",
    "a5=np.arange(0,10)\n",
    "a5a=np.arange(0,10,2)\n",
    "a5b=np.arange(10,0,-1)\n",
    "a6=np.linspace(0,10,12)\n",
    "print(a3)\n",
    "print(a4)\n",
    "print(a5)\n",
    "print(a5a)\n",
    "print(a5b)\n",
    "print(a6)"
   ]
  },
  {
   "cell_type": "code",
   "execution_count": 3,
   "metadata": {},
   "outputs": [
    {
     "data": {
      "text/plain": [
       "array([ 6.66298848, 23.66767971, 15.89573149, 97.33024329, 71.02534685,\n",
       "        8.28551555, 54.83698918, 14.24482969, 10.72127306, 61.75786179])"
      ]
     },
     "execution_count": 3,
     "metadata": {},
     "output_type": "execute_result"
    }
   ],
   "source": [
    "# inne sposoby\n",
    "# typy danych\n",
    "# domyślnie float  (int)\n",
    "# int8, int16, int32, int64, uint8..uint64, float32, float64, bool\n",
    "\n",
    "a3=np.zeros((2,2),dtype=np.uint16) \n",
    "a4=np.full((2,2),9.0)\n",
    "a5=np.ones((1,2))\n",
    "a6=np.eye(6,6,dtype=np.bool)\n",
    "# random arrays\n",
    "np.random.seed(120)\n",
    "a7=np.random.rand(2,2)\n",
    "a77=np.random.randn(10) # normal std\n",
    "a8=np.random.randint(0,100,(2,2))\n",
    "a9=np.random.normal(200,50,(10))\n",
    "a10=np.random.uniform(0,100,(10))\n",
    "a10"
   ]
  },
  {
   "cell_type": "markdown",
   "metadata": {},
   "source": [
    "### Wymiar i rozmiar numpy arrays ###"
   ]
  },
  {
   "cell_type": "code",
   "execution_count": 4,
   "metadata": {},
   "outputs": [
    {
     "name": "stdout",
     "output_type": "stream",
     "text": [
      "80\n"
     ]
    }
   ],
   "source": [
    "print(a10.size*a10.itemsize)"
   ]
  },
  {
   "cell_type": "markdown",
   "metadata": {},
   "source": [
    "### Zmiana kształtu **NumPy array** ###"
   ]
  },
  {
   "cell_type": "code",
   "execution_count": 9,
   "metadata": {},
   "outputs": [
    {
     "name": "stdout",
     "output_type": "stream",
     "text": [
      "(20,) (5, 4)\n"
     ]
    }
   ],
   "source": [
    "# tworzenie range\n",
    "m=np.arange(0,20)\n",
    "m2=m.reshape(5,4)\n",
    "\n",
    "print(m.shape,m2.shape)"
   ]
  },
  {
   "cell_type": "markdown",
   "metadata": {},
   "source": [
    "Zadania:"
   ]
  },
  {
   "cell_type": "markdown",
   "metadata": {},
   "source": [
    "1. Utwórz 1D array A zawierającą liczby od 9 do 39\n"
   ]
  },
  {
   "cell_type": "code",
   "execution_count": 10,
   "metadata": {},
   "outputs": [
    {
     "data": {
      "text/plain": [
       "array([ 9, 10, 11, 12, 13, 14, 15, 16, 17, 18, 19, 20, 21, 22, 23, 24, 25,\n",
       "       26, 27, 28, 29, 30, 31, 32, 33, 34, 35, 36, 37, 38, 39])"
      ]
     },
     "execution_count": 10,
     "metadata": {},
     "output_type": "execute_result"
    }
   ],
   "source": [
    "A=np.array(range(9,40))\n",
    "A"
   ]
  },
  {
   "cell_type": "markdown",
   "metadata": {},
   "source": [
    "2. Utwórz BB 3x3 boolean array zawierajacą wyłącznie True"
   ]
  },
  {
   "cell_type": "code",
   "execution_count": 11,
   "metadata": {},
   "outputs": [
    {
     "data": {
      "text/plain": [
       "array([[ True,  True,  True],\n",
       "       [ True,  True,  True],\n",
       "       [ True,  True,  True]])"
      ]
     },
     "execution_count": 11,
     "metadata": {},
     "output_type": "execute_result"
    }
   ],
   "source": [
    "BB=np.array([True]*9).reshape(3,3)\n",
    "BB"
   ]
  },
  {
   "cell_type": "markdown",
   "metadata": {},
   "source": [
    "### Conditional indexing  (podzbiór, zmiana wartości)  ###"
   ]
  },
  {
   "cell_type": "code",
   "execution_count": 8,
   "metadata": {},
   "outputs": [
    {
     "data": {
      "text/plain": [
       "array([[27, 26, 26, 47, 10],\n",
       "       [60, 23, 67, 85, 78],\n",
       "       [99, 40, 42, 54, 97],\n",
       "       [22, 59, 85, 11, 21],\n",
       "       [44, 26, 51, 27, 63]])"
      ]
     },
     "execution_count": 8,
     "metadata": {},
     "output_type": "execute_result"
    }
   ],
   "source": [
    "#np.random.seed(141)\n",
    "a8=np.random.randint(0,100,(5,5))\n",
    "a8"
   ]
  },
  {
   "cell_type": "code",
   "execution_count": 9,
   "metadata": {},
   "outputs": [
    {
     "data": {
      "text/plain": [
       "array([60, 67, 85, 78, 99, 54, 97, 59, 85, 51, 63])"
      ]
     },
     "execution_count": 9,
     "metadata": {},
     "output_type": "execute_result"
    }
   ],
   "source": [
    "a8[a8>50]"
   ]
  },
  {
   "cell_type": "code",
   "execution_count": 10,
   "metadata": {},
   "outputs": [
    {
     "data": {
      "text/plain": [
       "array([[27, 26, 26, 47, 10],\n",
       "       [ 0, 23,  0,  0,  0],\n",
       "       [ 0, 40, 42,  0,  0],\n",
       "       [22,  0,  0, 11, 21],\n",
       "       [44, 26,  0, 27,  0]])"
      ]
     },
     "execution_count": 10,
     "metadata": {},
     "output_type": "execute_result"
    }
   ],
   "source": [
    "a8[a8>50]=0   \n",
    "a8\n"
   ]
  },
  {
   "cell_type": "code",
   "execution_count": 17,
   "metadata": {},
   "outputs": [
    {
     "data": {
      "text/plain": [
       "array([[39,  0,  1,  0, 61],\n",
       "       [94,  0, 85, 85, 60],\n",
       "       [28, 72, 61, 25, 66],\n",
       "       [ 0, 22,  0, 27, 86],\n",
       "       [68, 36, 12,  0, 72]])"
      ]
     },
     "execution_count": 17,
     "metadata": {},
     "output_type": "execute_result"
    }
   ],
   "source": [
    "a8[(a8>40) & (a8<60)]=0\n",
    "a8"
   ]
  },
  {
   "cell_type": "markdown",
   "metadata": {},
   "source": [
    "Zadania:"
   ]
  },
  {
   "cell_type": "code",
   "execution_count": 18,
   "metadata": {},
   "outputs": [],
   "source": [
    "a8=np.random.randint(0,100,(5,5))"
   ]
  },
  {
   "cell_type": "markdown",
   "metadata": {},
   "source": [
    "3. Z tablicy a8 utwórz podzbiór wartości parzystych"
   ]
  },
  {
   "cell_type": "code",
   "execution_count": 54,
   "metadata": {},
   "outputs": [
    {
     "name": "stdout",
     "output_type": "stream",
     "text": [
      "[[40 40 30  3 43]\n",
      " [85 62 96 82 37]\n",
      " [27 14  5 61 42]\n",
      " [32 54 70 79 43]\n",
      " [17 38 87 45 64]]\n",
      "\n",
      "[40 40 30 62 96 82 14 42 32 54 70 38 64]\n"
     ]
    }
   ],
   "source": [
    "print(a8)\n",
    "\n",
    "a8p=np.array(a8[a8%2==0])\n",
    "print()\n",
    "print(a8p)"
   ]
  },
  {
   "cell_type": "markdown",
   "metadata": {},
   "source": [
    "4. W tablicy a8  wartości parzyste zastąp wartością -1"
   ]
  },
  {
   "cell_type": "code",
   "execution_count": 52,
   "metadata": {},
   "outputs": [],
   "source": [
    "a8[a8%2==0]=-1\n",
    "a8pp=np.array(a8)"
   ]
  },
  {
   "cell_type": "code",
   "execution_count": 39,
   "metadata": {},
   "outputs": [
    {
     "data": {
      "text/plain": [
       "array([[57, 41, -1, -1, -1],\n",
       "       [17, 45, -1, -1, 41],\n",
       "       [81, 11, -1, 89, -1],\n",
       "       [39,  3, -1, -1, -1],\n",
       "       [95, 95, -1, -1, 77]])"
      ]
     },
     "execution_count": 39,
     "metadata": {},
     "output_type": "execute_result"
    }
   ],
   "source": [
    "a8pp"
   ]
  },
  {
   "cell_type": "markdown",
   "metadata": {},
   "source": [
    "### Czytanie danych CSV- comma-separated values, TSV- tab separated values ###"
   ]
  },
  {
   "cell_type": "code",
   "execution_count": 12,
   "metadata": {},
   "outputs": [],
   "source": [
    "data = np.genfromtxt('stockholm_daily_mean_temperature_1756_2017.txt')"
   ]
  },
  {
   "cell_type": "code",
   "execution_count": 13,
   "metadata": {},
   "outputs": [
    {
     "data": {
      "text/plain": [
       "(95694, 7)"
      ]
     },
     "execution_count": 13,
     "metadata": {},
     "output_type": "execute_result"
    }
   ],
   "source": [
    "data.shape"
   ]
  },
  {
   "cell_type": "code",
   "execution_count": 36,
   "metadata": {},
   "outputs": [
    {
     "data": {
      "image/png": "[encoded data removed]",
      "text/plain": [
       "<Figure size 1008x288 with 1 Axes>"
      ]
     },
     "metadata": {},
     "output_type": "display_data"
    }
   ],
   "source": [
    "fig, _ = plt.subplots(figsize=(14,4))\n",
    "fig.axes[0].plot(data[:,0]+data[:,1]/12.0+data[:,2]/365, data[:,5],linewidth=0.3)\n",
    "#ax.axis('tight')\n",
    "ax.set_title('temperatura w Sztokholmie')\n",
    "ax.set_xlabel('lata')\n",
    "ax.set_ylabel('temperatura (C)');"
   ]
  },
  {
   "cell_type": "markdown",
   "metadata": {},
   "source": [
    "### Zapisywanie array ###"
   ]
  },
  {
   "cell_type": "code",
   "execution_count": 16,
   "metadata": {},
   "outputs": [
    {
     "data": {
      "text/plain": [
       "array([[0.58060524, 0.26610449, 0.7910572 ],\n",
       "       [0.48908918, 0.68674298, 0.42748361],\n",
       "       [0.07926071, 0.80050729, 0.91189205]])"
      ]
     },
     "execution_count": 16,
     "metadata": {},
     "output_type": "execute_result"
    }
   ],
   "source": [
    "M=np.random.rand(3,3)\n",
    "M"
   ]
  },
  {
   "cell_type": "code",
   "execution_count": 49,
   "metadata": {},
   "outputs": [],
   "source": [
    "# do pliku tekstowego\n",
    "np.savetxt(\"random_m.csv\",M,fmt='%.5f',delimiter=',')"
   ]
  },
  {
   "cell_type": "code",
   "execution_count": 50,
   "metadata": {},
   "outputs": [],
   "source": [
    "# do wewnętrznego pliku numpy\n",
    "np.save(\"random_m.npy\",M)"
   ]
  },
  {
   "cell_type": "code",
   "execution_count": 51,
   "metadata": {},
   "outputs": [
    {
     "data": {
      "text/plain": [
       "array([[0.87708958, 0.27827411, 0.30275486],\n",
       "       [0.3209769 , 0.81059907, 0.83577572],\n",
       "       [0.54758756, 0.30482114, 0.00502004]])"
      ]
     },
     "execution_count": 51,
     "metadata": {},
     "output_type": "execute_result"
    }
   ],
   "source": [
    "# czytanie z wewnętrznego pliku numpy\n",
    "MM=np.load(\"random_m.npy\")\n",
    "MM"
   ]
  },
  {
   "cell_type": "markdown",
   "metadata": {},
   "source": [
    "### Indeksowanie  (kopiowanie) ###"
   ]
  },
  {
   "cell_type": "code",
   "execution_count": 17,
   "metadata": {},
   "outputs": [
    {
     "data": {
      "text/plain": [
       "array([[0.58060524, 0.26610449, 0.7910572 ],\n",
       "       [0.48908918, 0.68674298, 0.42748361],\n",
       "       [0.07926071, 0.80050729, 0.91189205]])"
      ]
     },
     "execution_count": 17,
     "metadata": {},
     "output_type": "execute_result"
    }
   ],
   "source": [
    "M"
   ]
  },
  {
   "cell_type": "code",
   "execution_count": 55,
   "metadata": {},
   "outputs": [
    {
     "data": {
      "text/plain": [
       "0.81059906921833"
      ]
     },
     "execution_count": 55,
     "metadata": {},
     "output_type": "execute_result"
    }
   ],
   "source": [
    "M[1,1]"
   ]
  },
  {
   "cell_type": "code",
   "execution_count": 56,
   "metadata": {},
   "outputs": [
    {
     "data": {
      "text/plain": [
       "array([0.3209769 , 0.81059907, 0.83577572])"
      ]
     },
     "execution_count": 56,
     "metadata": {},
     "output_type": "execute_result"
    }
   ],
   "source": [
    "M[1]"
   ]
  },
  {
   "cell_type": "code",
   "execution_count": 57,
   "metadata": {},
   "outputs": [
    {
     "data": {
      "text/plain": [
       "array([0.3209769 , 0.81059907, 0.83577572])"
      ]
     },
     "execution_count": 57,
     "metadata": {},
     "output_type": "execute_result"
    }
   ],
   "source": [
    "# to samo może zostać osiągnięte za pomocą\n",
    "M[1,:]   # row"
   ]
  },
  {
   "cell_type": "code",
   "execution_count": 18,
   "metadata": {},
   "outputs": [
    {
     "data": {
      "text/plain": [
       "array([0.26610449, 0.68674298, 0.80050729])"
      ]
     },
     "execution_count": 18,
     "metadata": {},
     "output_type": "execute_result"
    }
   ],
   "source": [
    "M[:,1] # kolumna"
   ]
  },
  {
   "cell_type": "code",
   "execution_count": 19,
   "metadata": {},
   "outputs": [
    {
     "data": {
      "text/plain": [
       "array([[ 1.        ,  0.26610449, -1.        ],\n",
       "       [ 0.        ,  0.        , -1.        ],\n",
       "       [ 0.07926071,  0.80050729, -1.        ]])"
      ]
     },
     "execution_count": 19,
     "metadata": {},
     "output_type": "execute_result"
    }
   ],
   "source": [
    "M1=np.array(M)   # tworzenie kopii\n",
    "M1[0,0]=1\n",
    "M1[1,:]=0\n",
    "M1[:,2]=-1\n",
    "M1"
   ]
  },
  {
   "cell_type": "code",
   "execution_count": 20,
   "metadata": {},
   "outputs": [
    {
     "data": {
      "text/plain": [
       "array([[0.58060524, 0.26610449, 0.7910572 ],\n",
       "       [0.48908918, 0.68674298, 0.42748361],\n",
       "       [0.07926071, 0.80050729, 0.91189205]])"
      ]
     },
     "execution_count": 20,
     "metadata": {},
     "output_type": "execute_result"
    }
   ],
   "source": [
    "M"
   ]
  },
  {
   "cell_type": "markdown",
   "metadata": {},
   "source": [
    "### Indeks slicing ###\n",
    "Techniczna nazwa składni M[lower:upper:step] do ekstrakcji cześci array"
   ]
  },
  {
   "cell_type": "code",
   "execution_count": 67,
   "metadata": {},
   "outputs": [
    {
     "data": {
      "text/plain": [
       "array([1, 2, 3, 4, 5])"
      ]
     },
     "execution_count": 67,
     "metadata": {},
     "output_type": "execute_result"
    }
   ],
   "source": [
    "A=np.array([1,2,3,4,5])\n",
    "A"
   ]
  },
  {
   "cell_type": "code",
   "execution_count": 68,
   "metadata": {},
   "outputs": [
    {
     "data": {
      "text/plain": [
       "array([2, 3])"
      ]
     },
     "execution_count": 68,
     "metadata": {},
     "output_type": "execute_result"
    }
   ],
   "source": [
    "A[1:3]   # pierwszy included, ostatni excluded"
   ]
  },
  {
   "cell_type": "markdown",
   "metadata": {},
   "source": [
    "#### *Area slices* są *mutable* jeśli przypiszemy do nich nowe wartości oryginalna *array*, z której wycięto *slice* zostanie zmieniona ####"
   ]
  },
  {
   "cell_type": "code",
   "execution_count": 69,
   "metadata": {},
   "outputs": [
    {
     "name": "stdout",
     "output_type": "stream",
     "text": [
      "[3 4]\n",
      "[3 4 5]\n",
      "[1 2]\n",
      "[1 2 3 4 5]\n",
      "[1 2 3 4]\n",
      "5\n"
     ]
    }
   ],
   "source": [
    "print(A[2:4])\n",
    "print(A[2:])\n",
    "print(A[:2])\n",
    "print(A[:])\n",
    "print(A[:-1])\n",
    "print(A[-1])"
   ]
  },
  {
   "cell_type": "code",
   "execution_count": 21,
   "metadata": {},
   "outputs": [],
   "source": [
    "B=np.random.randint(0,100,(8,8))"
   ]
  },
  {
   "cell_type": "code",
   "execution_count": 22,
   "metadata": {},
   "outputs": [
    {
     "data": {
      "text/plain": [
       "array([[16, 91, 24, 65, 72, 87, 78, 65],\n",
       "       [ 3, 59, 30, 61, 69, 15, 57, 54],\n",
       "       [ 3, 40, 48, 18, 50, 83, 33, 11],\n",
       "       [23, 54, 86, 44, 71, 17, 50, 22],\n",
       "       [86,  4, 13, 49, 10, 49, 46, 42],\n",
       "       [83, 38,  2, 79, 36, 73, 22, 29],\n",
       "       [36, 42, 91, 63, 68, 37, 63, 80],\n",
       "       [18, 12, 71, 77, 42, 15, 65, 93]])"
      ]
     },
     "execution_count": 22,
     "metadata": {},
     "output_type": "execute_result"
    }
   ],
   "source": [
    "B"
   ]
  },
  {
   "cell_type": "code",
   "execution_count": 23,
   "metadata": {},
   "outputs": [
    {
     "data": {
      "text/plain": [
       "array([[48, 18, 50],\n",
       "       [86, 44, 71],\n",
       "       [13, 49, 10]])"
      ]
     },
     "execution_count": 23,
     "metadata": {},
     "output_type": "execute_result"
    }
   ],
   "source": [
    "B[2:5,2:5]"
   ]
  },
  {
   "cell_type": "code",
   "execution_count": 75,
   "metadata": {},
   "outputs": [
    {
     "data": {
      "text/plain": [
       "array([[61, 49, 41, 66, 31, 99, 39, 46],\n",
       "       [18, 83,  6, 44, 65, 24, 19, 86],\n",
       "       [40, 64,  2,  2,  2, 72, 97, 43],\n",
       "       [83, 39,  2,  2,  2, 33, 46, 32],\n",
       "       [79, 23,  2,  2,  2, 52, 82, 59],\n",
       "       [32, 50, 12, 45, 58, 87, 43, 30],\n",
       "       [26, 13, 23, 62, 94, 78, 40, 12],\n",
       "       [34, 40, 62,  8, 62,  7, 27, 42]])"
      ]
     },
     "execution_count": 75,
     "metadata": {},
     "output_type": "execute_result"
    }
   ],
   "source": [
    "B[2:5,2:5]=2\n",
    "B"
   ]
  },
  {
   "cell_type": "markdown",
   "metadata": {},
   "source": [
    "**Funkcje do przekształcania, ekstrakcji i tworzenia danych z array**"
   ]
  },
  {
   "cell_type": "code",
   "execution_count": 76,
   "metadata": {},
   "outputs": [
    {
     "data": {
      "text/plain": [
       "array([[ True,  True,  True,  True,  True, False,  True,  True],\n",
       "       [False, False, False,  True,  True,  True, False, False],\n",
       "       [ True,  True, False, False, False, False, False,  True],\n",
       "       [False,  True, False, False, False,  True,  True,  True],\n",
       "       [False,  True, False, False, False,  True, False,  True],\n",
       "       [ True,  True, False,  True,  True, False,  True,  True],\n",
       "       [ True, False,  True,  True, False, False,  True, False],\n",
       "       [ True,  True,  True, False,  True, False,  True,  True]])"
      ]
     },
     "execution_count": 76,
     "metadata": {},
     "output_type": "execute_result"
    }
   ],
   "source": [
    "filtr=(20<B)*(B<70)\n",
    "filtr"
   ]
  },
  {
   "cell_type": "code",
   "execution_count": 77,
   "metadata": {},
   "outputs": [
    {
     "name": "stdout",
     "output_type": "stream",
     "text": [
      "[61 49 41 66 31 39 46 44 65 24 40 64 43 39 33 46 32 23 52 59 32 50 45 58\n",
      " 43 30 26 23 62 40 34 40 62 62 27 42]\n"
     ]
    }
   ],
   "source": [
    "print(B[filtr])"
   ]
  },
  {
   "cell_type": "markdown",
   "metadata": {},
   "source": [
    "**where**"
   ]
  },
  {
   "cell_type": "code",
   "execution_count": 8,
   "metadata": {},
   "outputs": [
    {
     "data": {
      "text/plain": [
       "array([[1, 1, 1, 0, 1, 1, 1, 0],\n",
       "       [1, 1, 1, 1, 0, 1, 1, 1],\n",
       "       [1, 1, 1, 1, 1, 1, 1, 1],\n",
       "       [1, 1, 1, 1, 1, 0, 1, 1],\n",
       "       [1, 1, 1, 0, 1, 1, 1, 1],\n",
       "       [1, 1, 0, 1, 1, 0, 1, 1],\n",
       "       [1, 0, 1, 0, 0, 0, 1, 1],\n",
       "       [1, 1, 0, 1, 1, 1, 1, 1]])"
      ]
     },
     "execution_count": 8,
     "metadata": {},
     "output_type": "execute_result"
    }
   ],
   "source": [
    "C=np.where(B>20,1,0)\n",
    "C"
   ]
  },
  {
   "cell_type": "markdown",
   "metadata": {},
   "source": [
    "**clip**"
   ]
  },
  {
   "cell_type": "code",
   "execution_count": 9,
   "metadata": {},
   "outputs": [
    {
     "data": {
      "text/plain": [
       "array([[68, 70, 68, 20, 50, 28, 63, 20],\n",
       "       [67, 53, 65, 70, 20, 59, 70, 23],\n",
       "       [21, 70, 70, 70, 63, 31, 70, 70],\n",
       "       [70, 70, 42, 70, 33, 20, 70, 37],\n",
       "       [70, 43, 70, 20, 69, 43, 30, 35],\n",
       "       [48, 46, 20, 68, 26, 20, 23, 40],\n",
       "       [70, 20, 36, 20, 20, 20, 41, 51],\n",
       "       [52, 70, 20, 34, 61, 26, 55, 45]])"
      ]
     },
     "execution_count": 9,
     "metadata": {},
     "output_type": "execute_result"
    }
   ],
   "source": [
    "D=np.clip(B,20,70)\n",
    "D"
   ]
  },
  {
   "cell_type": "markdown",
   "metadata": {},
   "source": [
    "### Max and Arg Max ###"
   ]
  },
  {
   "cell_type": "code",
   "execution_count": 3,
   "metadata": {},
   "outputs": [
    {
     "data": {
      "text/plain": [
       "array([56, 77, 59, 20, 56, 65, 39, 29, 48, 94, 92, 45, 49, 23,  0, 49, 92,\n",
       "       30, 88, 40, 69, 52,  3, 42, 88, 49, 48, 38, 97, 41, 71, 53, 97, 48,\n",
       "       12, 68, 44, 27, 75, 77, 90, 90, 18, 15, 93, 17, 24, 80, 93, 79])"
      ]
     },
     "execution_count": 3,
     "metadata": {},
     "output_type": "execute_result"
    }
   ],
   "source": [
    "B=np.random.randint(0,100,(50))\n",
    "B"
   ]
  },
  {
   "cell_type": "code",
   "execution_count": 5,
   "metadata": {},
   "outputs": [
    {
     "name": "stdout",
     "output_type": "stream",
     "text": [
      "97\n"
     ]
    }
   ],
   "source": [
    "\n",
    "print(B.max())"
   ]
  },
  {
   "cell_type": "code",
   "execution_count": 6,
   "metadata": {},
   "outputs": [
    {
     "name": "stdout",
     "output_type": "stream",
     "text": [
      "28\n"
     ]
    }
   ],
   "source": [
    "print(B.argmax())"
   ]
  },
  {
   "cell_type": "code",
   "execution_count": 7,
   "metadata": {},
   "outputs": [
    {
     "name": "stdout",
     "output_type": "stream",
     "text": [
      "14\n"
     ]
    }
   ],
   "source": [
    "print(B.argmin())"
   ]
  },
  {
   "cell_type": "markdown",
   "metadata": {},
   "source": [
    "### Sortowanie  ###"
   ]
  },
  {
   "cell_type": "code",
   "execution_count": 24,
   "metadata": {},
   "outputs": [],
   "source": [
    "xx = np.array([2, 1, 4, 3, 5,7,12,34,9,0,-2])"
   ]
  },
  {
   "cell_type": "code",
   "execution_count": 25,
   "metadata": {},
   "outputs": [
    {
     "name": "stdout",
     "output_type": "stream",
     "text": [
      "[ 2  1  4  3  5  7 12 34  9  0 -2]\n",
      "\n",
      "[ 2  1  4  3  5  7 12 34  9  0 -2]\n",
      "[-2  0  1  2  3  4  5  7  9 12 34]\n",
      "[34 12  9  7  5  4  3  2  1  0 -2]\n"
     ]
    }
   ],
   "source": [
    "print(xx)\n",
    "xx0=np.array(xx)\n",
    "xx.sort()\n",
    "yy=xx[::-1]  # od największego\n",
    "print()\n",
    "print(xx0)\n",
    "print(xx)\n",
    "print(yy)"
   ]
  },
  {
   "cell_type": "code",
   "execution_count": 26,
   "metadata": {},
   "outputs": [],
   "source": [
    "xx = np.array([2, 1, 4, 3, 5,7,12,34,9,0,-2])\n"
   ]
  },
  {
   "cell_type": "markdown",
   "metadata": {},
   "source": [
    "Posortowane indeksy"
   ]
  },
  {
   "cell_type": "code",
   "execution_count": 27,
   "metadata": {},
   "outputs": [
    {
     "name": "stdout",
     "output_type": "stream",
     "text": [
      "[ 2  1  4  3  5  7 12 34  9  0 -2]\n",
      "[10  9  1  0  3  2  4  5  8  6  7]\n"
     ]
    }
   ],
   "source": [
    "xxi=np.argsort(xx)\n",
    "print(xx)\n",
    "print(xxi)      #  pierwsza indeks 10 z xx"
   ]
  },
  {
   "cell_type": "markdown",
   "metadata": {},
   "source": [
    "Zadania"
   ]
  },
  {
   "cell_type": "markdown",
   "metadata": {},
   "source": [
    "5. Utwórz tablice a88 z tablicy a8 (reset) w ktrej wartości parzyste zostaną zastąpione wartością -1 (tablica a8 nie ulega zmianie)"
   ]
  },
  {
   "cell_type": "code",
   "execution_count": 78,
   "metadata": {},
   "outputs": [
    {
     "name": "stdout",
     "output_type": "stream",
     "text": [
      "[[-1 -1 -1  3 43]\n",
      " [85 -1 -1 -1 37]\n",
      " [27 -1  5 61 -1]\n",
      " [-1 -1 -1 79 43]\n",
      " [17 -1 87 45 -1]]\n",
      "\n",
      "[[40 40 30  3 43]\n",
      " [85 62 96 82 37]\n",
      " [27 14  5 61 42]\n",
      " [32 54 70 79 43]\n",
      " [17 38 87 45 64]]\n"
     ]
    }
   ],
   "source": [
    "a88=np.where(a8%2==0,-1,a8)\n",
    "print(a88)\n",
    "print()\n",
    "print(a8)"
   ]
  },
  {
   "cell_type": "markdown",
   "metadata": {},
   "source": [
    "Zadania\n",
    "\n",
    "6. Wykonaj wykres zmian średniej rocznej temperatury w Sztokholmie."
   ]
  },
  {
   "cell_type": "code",
   "execution_count": 28,
   "metadata": {},
   "outputs": [
    {
     "name": "stdout",
     "output_type": "stream",
     "text": [
      "1756 2017\n"
     ]
    }
   ],
   "source": [
    "rok_start=int(data[:,0].min());rok_end=int(data[:,0].max())\n",
    "print(rok_start,rok_end)\n",
    "nn=(rok_end-rok_start)+1\n",
    "meantemp=np.zeros((nn,2),float) "
   ]
  },
  {
   "cell_type": "code",
   "execution_count": 29,
   "metadata": {},
   "outputs": [],
   "source": [
    "for i in range(rok_start,rok_end+1):\n",
    "    meantemp[i-rok_start,0]=i\n",
    "    meantemp[i-rok_start,1]=data[data[:,0]==i][:,5].mean()"
   ]
  },
  {
   "cell_type": "code",
   "execution_count": 30,
   "metadata": {},
   "outputs": [
    {
     "data": {
      "text/plain": [
       "7.734246575342466"
      ]
     },
     "execution_count": 30,
     "metadata": {},
     "output_type": "execute_result"
    }
   ],
   "source": [
    "# test\n",
    "meantemp[23,1]"
   ]
  },
  {
   "cell_type": "code",
   "execution_count": 31,
   "metadata": {},
   "outputs": [
    {
     "data": {
      "image/png": "[encoded data removed]",
      "text/plain": [
       "<Figure size 1008x288 with 1 Axes>"
      ]
     },
     "metadata": {},
     "output_type": "display_data"
    }
   ],
   "source": [
    "fig, _ = plt.subplots(figsize=(14,4))\n",
    "fig.axes[0].plot(meantemp[:,0],meantemp[:,1],linewidth=0.5,color='red')\n",
    "#ax.axis('tight')\n",
    "ax.set_title('temperatura w Sztokholmie')\n",
    "ax.set_xlabel('lata')\n",
    "ax.set_ylabel('temperatura (C)');"
   ]
  },
  {
   "cell_type": "code",
   "execution_count": null,
   "metadata": {},
   "outputs": [],
   "source": []
  }
 ],
 "metadata": {
  "kernelspec": {
   "display_name": "Python 3",
   "language": "python",
   "name": "python3"
  },
  "language_info": {
   "codemirror_mode": {
    "name": "ipython",
    "version": 3
   },
   "file_extension": ".py",
   "mimetype": "text/x-python",
   "name": "python",
   "nbconvert_exporter": "python",
   "pygments_lexer": "ipython3",
   "version": "3.6.5"
  }
 },
 "nbformat": 4,
 "nbformat_minor": 2
}
