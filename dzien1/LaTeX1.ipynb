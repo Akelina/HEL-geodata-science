{
 "cells": [
  {
   "cell_type": "markdown",
   "metadata": {},
   "source": [
    "# Wkorzystanie składni $\\LaTeX$a w Jupyter Notebook\n",
    "###   (przygotowała dr Gabriela Grusza UG)\n",
    "## 1. Tryb matematyczny\n",
    "\n",
    "### 1.1. Wykorzystanie znaku \\$\n",
    "Do trybu matematycznego przechodzimy poprzez wpisanie znaku \\\\$. Zamknięcie wyrażenia między znakami \\$ oznacza, że będzie to wyrażenie matematyczne w tej samej linii, co pozostały tekst. \n",
    "\n",
    "**Przykład 1:**\n",
    "\n",
    "Funkcja kwadratowa ma postać: $f(x)=ax^2+bx+c$, gdzie $a,b,c\\in \\mathcal{R}$.\n",
    "\n",
    "\n",
    "\n",
    "\n",
    "\n"
   ]
  },
  {
   "cell_type": "markdown",
   "metadata": {},
   "source": [
    "Funkcja kwadratowa ma postać: $f(x)=ax^2+bx+c$, gdzie $a,b,c\\in \\mathcal{R}$."
   ]
  },
  {
   "cell_type": "markdown",
   "metadata": {},
   "source": [
    "**Uwaga 1:**\n",
    "\n",
    "Nawiasy klamrowe pełnią w \\LaTeX{}u szczególną rolę. Służą do tworzenia grup i podawania argumentów funkcji. Na przykład polecenie \\frac{}{} (ułamek zwykły) ma dwa argumenty -- pierwszym jest licznik, drugim mianownik. Oba argumenty zą \"zamknięte\" w nawiasach klamrowych (które zawsze muszą być sparowane i nie pojawiają się w wyświetlanej formule)  \n",
    "\n",
    "$\\frac{a+b+c}{xyz}$\n",
    "\n",
    "**Uwaga 2:**\n",
    "Polecenie \\frac powoduje zmianę wielkości fontu. Alternatywnym poleceniem, które nie zmienia wielkości fomtu jest \\cfrac:\n",
    "\n",
    "\n",
    "frac: $\\frac{\\frac{a+b+c}{xyz}}{\\frac{a+b+c}{xyz}}$, cfrac: $\\cfrac{\\cfrac{a+b+c}{xyz}}{\\cfrac{a+b+c}{xyz}}$\n",
    "\n",
    "\n",
    "**Uwaga 3:**\n",
    "W trybie matematycznym nie wyświetla się spacja (jeśli chcemy są wymusić to poleceniem backslash spaca), wszystkie litery są wyświetlane kursywą (domyślny sposób wyświetlania zmiennych)."
   ]
  },
  {
   "cell_type": "markdown",
   "metadata": {},
   "source": [
    "Jeśli chcemy, by nasze wyrażenie matematyczne pojawiło się w osobnym wierszu, wyśrodkowane, wówczas musimy je zamknąć między podwójnymi znakami \\$. \n",
    "\n",
    "**Przykład 2:**\n",
    "\n",
    "Funkcja trygonometryczna ma postać:  $$f(x)=\\sin{\\alpha}+\\cos{\\beta},$$ gdzie  $\\alpha,\\beta$ są kątami wewnętrznymi ..."
   ]
  },
  {
   "cell_type": "markdown",
   "metadata": {},
   "source": [
    "### 1.2. Inne sposoby przechodzenia do trybu matematycznego\n",
    "Alternatywnie możemy wykorzystać wyrażenie: \n",
    "\n",
    "$\\backslash$begin{equation} .... $\\backslash$end{equation} \n",
    "\n",
    "lub\n",
    "\n",
    "$\\backslash$begin{align} .... $\\backslash$end{align} \n",
    "\n",
    "Nie używamy wówczs znaku \\$. \n",
    "\n",
    "Środowisko align pozwala na napisanie wzorów wyrównanych w kolumnach; kolumny oddzielamy znakiem &, a wiersze podwójnym znakiem backshals ($\\backslash\\backslash$).\n",
    "\n",
    "**Przykład 3:**\n",
    "\n",
    "\\begin{align}\n",
    "\\nabla \\times \\vec{\\mathbf{B}} -\\, \\frac1c\\, \\frac{\\partial\\vec{\\mathbf{E}}}{\\partial t} & = \\frac{4\\pi}{c}\\vec{\\mathbf{j}} \\\\\n",
    "\\nabla \\cdot \\vec{\\mathbf{E}} & = 4 \\pi \\rho \\\\\n",
    "\\nabla \\times \\vec{\\mathbf{E}}\\, +\\, \\frac1c\\, \\frac{\\partial\\vec{\\mathbf{B}}}{\\partial t} & = \\vec{\\mathbf{0}} \\\\\n",
    "\\nabla \\cdot \\vec{\\mathbf{B}} & = 0\n",
    "\\end{align}\n"
   ]
  },
  {
   "cell_type": "markdown",
   "metadata": {},
   "source": [
    "## 2. Znaki specjalne\n",
    "Wszystkie znaki, jakie używamy w \\LaTeX{}u są znakami wprowadzanymi z klawiatury. Stąd niektóre znaki mają specjalną rolę. Poza znakiem \\$ oraz nawiasami \\{ i \\}, do znaków specjalnych należą:\n",
    "\n",
    "* ^ - służy do wprowadzania indeksu górnego, np. $x^2$, $y^{\\Omega + 1}$\n",
    "* _ - służy do wprowadzania indeksu dolnego, np. $\\Sigma_{k=1}$\n",
    "* % - znak komentarza\n",
    "* & - służy do oddzielania kolumn w tabeli lub macierzy, np. \n",
    "$$\\begin{eqnarray}\n",
    "x &=& &x \\sin\\phi &+& z \\cos\\phi \\\\\n",
    "z &=& - &x \\cos\\phi &+& z \\sin\\phi \\\\\n",
    "\\end{eqnarray}$$\n",
    "* $\\sim$ - twarda spacja\n",
    "* $\\backslash$\n",
    "\n",
    "Jeśli chcemy, by znaki te wyświetliły się w trybie matematycznym, musimy zapisać \\ _znak_ (za wyjątkiem \\; polecenie \\ \\ służy do łamania linii ;))"
   ]
  },
  {
   "cell_type": "markdown",
   "metadata": {},
   "source": [
    "## 3. Podstawowe polecenia \n",
    "\n",
    "**Standardowe funkcje:**\n",
    "\n",
    "* $\\sin(), \\cos(), \\tan(), \\cot(), \\arcsin(), \\arccos(), \\arctan(), \\sinh(), \\cosh(), \\tanh(), \\coth(), \\csc(), ...$\n",
    "* $\\ln c, \\log_a b, e^\\infty$, $\\lim_{x \\to 2}$\n",
    "* $ (a+b)^{(n^2+n+1)}$, $\\sqrt[3]{\\frac{a+b+c}{x^2+y}}$\n",
    "\n",
    "**Greckie litery:**\n",
    "\n",
    "* małe: $\\alpha, \\beta, \\gamma, \\delta, \\epsilon, \\varepsilon, \\zeta, \\eta ,\\theta, \\vartheta,  \\iota, \\kappa, \\lambda, \\mu, \\nu, \\xi, \\pi, \\rho, \\varrho,\\sigma, \\tau, \\upsilon,  \\chi, \\omega  $\n",
    "* wielkie: $\\Gamma, \\Delta, \\Theta,\t\\Lambda, \\Xi, \\Pi, \\Sigma, \\Upsilon, \\Phi, \\Psi,  \\Omega$\n",
    "\n",
    "**Strzałki:**\n",
    "\n",
    "$\\uparrow, \\downarrow, \\Uparrow, \\Downarrow, \\updownarrow, \\Updownarrow, \\leftarrow, \\rightarrow, \\leftrightarrow, \\Leftrightarrow,\n",
    "\t\\Leftarrow, \\Rightarrow, \\longleftarrow, \\longrightarrow, \\Longleftarrow, \\Longrightarrow, \\longleftrightarrow,\n",
    "\t\\Longleftrightarrow, \t\\nwarrow,  \\nearrow, \\swarrow, \t\\searrow, \t\\mapsto, \t\\longmapsto, \n",
    "\t\\hookleftarrow, \t\\hookrightarrow, \t\\leftharpoonup, \t\\rightharpoonup, \t\\leftharpoondown, \t\t\\rightharpoondown\n",
    "\t\\rightleftharpoons, \t\\twoheadleftarrow,\t\t\\twoheadrightarrow, \t\\Lsh, \t\t\\Rsh .....$\n",
    "\n",
    "**Akcenty:**\n",
    "\n",
    "* $\\vec{uv}$, $\\bar{x}$, \n",
    "$\\grave x$, $\\acute x$, $\\hat x$, $\\widehat x$, $\\tilde x$, $\\overline x$, $\\overbrace{abc}$\n",
    "  $\\breve x$, $\\dot x$, $\\ddot x$,   $\\dddot x$,  ...\n",
    "*   $\\underline x$, $\\underbrace{abc}$, $\\underleftarrow x$,  $\\underrightarrow x$\n",
    "* $x^\\prime$, $x^\\backprime$, $x^\\bullet$,  $x^\\ast$, $x^\\llcorner$\n",
    "\n",
    "**Całki:**\n",
    "\n",
    "* $\\int_{a}^{b} x^2 dx$\n",
    "* $\\iint_V \\mu(u,v) \\,du\\,dv$\n",
    "* $\\iiint_V \\mu(u,v,w) \\,du\\,dv\\,dw$ \n",
    "* $\\iiiint_V \\mu(t,u,v,w) \\,dt\\,du\\,dv\\,dw$\n",
    "* $\\idotsint_V \\mu(u_1,\\dots,u_k) \\,du_1 \\dots du_k$\n",
    "* $\\oint_V f(s) \\,ds$\n",
    "\n",
    "**Sumy:**\n",
    "\n",
    "* $\\sum_{\\substack{0<i<n\\\\0<j<m}}K_{ij}(x)$\n",
    "\n",
    "\n",
    "\n",
    "\n",
    "**Inne symbole:**\n",
    "\n",
    "* $\\pm, \\cap, \\diamond, \\oplus, \\cup, \\bigtriangleup, \\ominus,  \\times, \\uplus, \\bigtriangledown, \\otimes, \n",
    " \\div , \\sqcap, \\triangleleft, \\oslash, \\ast, \\sqcup, \\triangleright,  \\odot,   \\star , \\vee, \\bigcirc,    \n",
    " \\circ,   \\wedge, \\dagger,    \\bullet, \\setminus, \\ddagger,  \\cdot,  \\wr, \\amalg  $\n",
    "* $\\leq, \\geq,\\equiv,\\models, \\prec,\\succ, \\sim,\\perp, \\preceq,\\succeq, \\simeq,\\mid, \\ll,  \\gg, \\asymp,\\parallel,     \n",
    " \\subset,\\supset,\\approx,\\bowtie, \\subseteq,\\supseteq,\\cong, ,\\neq,\\smile,      \n",
    " \\sqsubseteq          \\sqsupseteq         \\doteq,\\frown , \\in,  \\ni, \\propto,  \\vdash, \\dashv, \\forall $\n",
    "* $\\ldots,\\cdots,\\vdots,\\ddots, \\aleph,\\prime,\\forall,\\infty, \\hbar, \\emptyset,\\exists, \\imath,\\nabla,\\neg, \\Diamond, \n",
    " \\jmath,\\surd,\\flat,\\triangle, \\ell,  \\top, \\natural, \\clubsuit, \\wp,   \\bot, \\sharp,\\diamondsuit, \\Re,   \\|,  \\heartsuit,    \n",
    " \\Im,   \\angle,\\partial, \\spadesuit    \\mho^b$ \n",
    "* $\\partial$\n",
    "* $\\emptyset, \\varnothing$\n",
    "* $\\bigcup$\n",
    "\n",
    "**Specjalne fonty:**\n",
    "* mathbb:$\\mathbb{A}$,$\\mathbb{B}$,$\\mathbb{C}$,$\\mathbb{D}$,$\\mathbb{E}$,...\n",
    "* mathcal:$\\mathcal{A}$,$\\mathcal{B}$,$\\mathcal{C}$,$\\mathcal{D}$,$\\mathcal{E}$,...\n",
    "\n"
   ]
  },
  {
   "cell_type": "markdown",
   "metadata": {},
   "source": [
    "## 4. Nawiasy:\n",
    "\n",
    "Wielkość nawiasów będzie się dostosowywać do zawartości, jeśli będziemy jes wpisywać jako polecenie: $\\backslash$left( i  $\\backslash$right). Nawiasy zawsze muszą być sparowane!\n",
    "\n",
    "**Przykład 4:**\n",
    "\n",
    "$z = \\left(1+\\left(\\frac{dx}{dy}\\right)^{1/3}\\right)$\n",
    "\n",
    "\n"
   ]
  },
  {
   "cell_type": "markdown",
   "metadata": {},
   "source": [
    "# 5. Macierze\n",
    "Do tworzenia macierzy wykorzystujemy środowisko matrix lub bmatrix (w tym przypadku macierz jest otoczona kwadratowym nawiasem). Tak jak w środowisku align kolumny oddzielamy znakiem &, a kolejne wiersze podwójnym znakiem backshals ($\\backslash\\backslash$).\n",
    "\n",
    "**Przykład 5:**\n",
    "\n",
    "$$X=\\begin{bmatrix}\n",
    "    x_{11} & x_{12} & x_{13} & \\dots  & x_{1n} \\\\\n",
    "    x_{21} & x_{22} & x_{23} & \\dots  & x_{2n} \\\\\n",
    "    \\vdots & \\vdots & \\vdots & \\ddots & \\vdots \\\\\n",
    "    x_{d1} & x_{d2} & x_{d3} & \\dots  & x_{dn}\n",
    "\\end{bmatrix}$$"
   ]
  },
  {
   "cell_type": "markdown",
   "metadata": {},
   "source": [
    "# 6. Ćwiczenia\n"
   ]
  },
  {
   "cell_type": "markdown",
   "metadata": {},
   "source": []
  }
 ],
 "metadata": {
  "kernelspec": {
   "display_name": "Python 3",
   "language": "python",
   "name": "python3"
  },
  "language_info": {
   "codemirror_mode": {
    "name": "ipython",
    "version": 3
   },
   "file_extension": ".py",
   "mimetype": "text/x-python",
   "name": "python",
   "nbconvert_exporter": "python",
   "pygments_lexer": "ipython3",
   "version": "3.6.5"
  }
 },
 "nbformat": 4,
 "nbformat_minor": 2
}
