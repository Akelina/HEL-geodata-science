{
 "cells": [
  {
   "cell_type": "markdown",
   "metadata": {},
   "source": [
    "<p style=\"font-family: Arial; font-size:1.75em;color:#003399; font-style:bold\"><br>\n",
    " Filtracja obrazu \n",
    "</p><br>\n",
    "W tej części porównane będą różne metody przygotowania obrazów do dalszej analizy:\n",
    "<tr>1. Zminiejszenie rozdzielczości (róznież jako forma usuwania szumów)</tr><br>\n",
    "<tr>2. Usuwanie szumów filtrem gaussa oraz filtrem medianowym używając tzw. \"wędrującego okna\"</tr><br>\n",
    "<tr>3. Usuwanie szumów poprzez tranformacje sygnału - filtr falkowy (wavelet), bilateralny i Chambolle</tr><br>\n",
    "<tr>4. Wyostrzanie granic obiektów - porównanie filtrów Sobel`a, Prewitt`a i Roberts`a</tr><br>\n",
    "<tr>5. Ocena zmniejszenia szumów poprzez zastosowanie wybranych charakterystyk opisu obrazów</tr><br>\n",
    "<tr>6. Tworzenie obrazów binarnych różnymi metodami progrogowania</tr><br>\n",
    "<tr>7. \"Czyszczenie\" obrazów binarnych </tr><br>\n",
    "<tr>8. Scharakteryzowanie tekstury fragmentów obrazu różnego typu metodą GLCM (grey level co-occurrence matrices, GLCM) </tr><br>"
   ]
  },
  {
   "cell_type": "code",
   "execution_count": 2,
   "metadata": {
    "collapsed": true
   },
   "outputs": [],
   "source": [
    "import os\n",
    "import sys\n",
    "import matplotlib.pyplot as plt\n",
    "from matplotlib import colors\n",
    "import numpy as np\n",
    "from skimage import io, img_as_float, img_as_ubyte, exposure, img_as_int"
   ]
  },
  {
   "cell_type": "code",
   "execution_count": 3,
   "metadata": {
    "collapsed": true
   },
   "outputs": [],
   "source": [
    "im = io.imread('S1B_EW_GRDM_1SDH_20180206T050415_Botnicka.tif')"
   ]
  },
  {
   "cell_type": "markdown",
   "metadata": {},
   "source": [
    "<i>---------Zmniejszenie rozdzielczości przestrzennej obrazu-----------</i>"
   ]
  },
  {
   "cell_type": "code",
   "execution_count": 5,
   "metadata": {
    "collapsed": true
   },
   "outputs": [],
   "source": [
    "from skimage import exposure, transform\n",
    "\n",
    "def contrast_perc(band, d, u):\n",
    "    lower = np.percentile(band,d)\n",
    "    upper = np.percentile(band,u)\n",
    "    rescaled = exposure.rescale_intensity(band,in_range=(lower, upper))\n",
    "    \n",
    "    return(rescaled)\n",
    "\n",
    "# subsampling 10-krotny\n",
    "n = 10\n",
    "imS = transform.downscale_local_mean(im,(n,n))\n",
    "\n",
    "\n",
    "r0 = contrast_perc(im, 1,99)\n",
    "rS = contrast_perc(imS, 1,99)\n",
    "\n",
    "fig = plt.figure(figsize=(15,15))\n",
    "ax0 = plt.subplot(121)\n",
    "ax0.imshow(r0,cmap=plt.get_cmap('gray'))\n",
    "\n",
    "# zaznaczenie obszaru, z którym będziemy dalej pracować\n",
    "aoi = im[4600:5200,3800:4500]\n",
    "ice = exposure.equalize_hist(aoi)\n",
    "back = im * 0\n",
    "back[4600:5200,3800:4500] = 1\n",
    "cm = colors.ListedColormap([\"#FFFFFF00\", '#CC000080'])\n",
    "plt.imshow(back,cmap=cm)\n",
    "\n",
    "ax0.set_title(\"Original resolution\")\n",
    "ax1 = plt.subplot(122)\n",
    "ax1.imshow(rS,cmap=plt.get_cmap('gray'))\n",
    "ax1.set_title(\"Subsampled %d times\" % (n))\n",
    "plt.show()"
   ]
  },
  {
   "cell_type": "markdown",
   "metadata": {},
   "source": [
    "<i>-------Filtracja szumów-------</i>"
   ]
  },
  {
   "cell_type": "markdown",
   "metadata": {},
   "source": [
    "Poniżej pokazana jest zasada działania filtracji dolnoprzepustowej. Po lewej pokazana jest lokalizacja okna filtracji, a po prawej zmiany wartości otrzymywane w wyniku filtracji średniej."
   ]
  },
  {
   "cell_type": "code",
   "execution_count": 7,
   "metadata": {},
   "outputs": [
    {
     "data": {
      "image/png": "[encoded data removed]",
      "text/plain": [
       "<Figure size 720x720 with 2 Axes>"
      ]
     },
     "metadata": {},
     "output_type": "display_data"
    },
    {
     "ename": "KeyboardInterrupt",
     "evalue": "",
     "output_type": "error",
     "traceback": [
      "\u001b[1;31m---------------------------------------------------------------------------\u001b[0m",
      "\u001b[1;31mKeyboardInterrupt\u001b[0m                         Traceback (most recent call last)",
      "\u001b[1;32m<ipython-input-7-41842eb2843f>\u001b[0m in \u001b[0;36m<module>\u001b[1;34m()\u001b[0m\n\u001b[0;32m     23\u001b[0m         \u001b[0max1\u001b[0m\u001b[1;33m.\u001b[0m\u001b[0mset_title\u001b[0m\u001b[1;33m(\u001b[0m\u001b[1;34m\"Filtered image\"\u001b[0m\u001b[1;33m)\u001b[0m\u001b[1;33m\u001b[0m\u001b[0m\n\u001b[0;32m     24\u001b[0m         \u001b[0mplt\u001b[0m\u001b[1;33m.\u001b[0m\u001b[0mshow\u001b[0m\u001b[1;33m(\u001b[0m\u001b[1;33m)\u001b[0m\u001b[1;33m\u001b[0m\u001b[0m\n\u001b[1;32m---> 25\u001b[1;33m         \u001b[0mtime\u001b[0m\u001b[1;33m.\u001b[0m\u001b[0msleep\u001b[0m\u001b[1;33m(\u001b[0m\u001b[1;36m1\u001b[0m\u001b[1;33m)\u001b[0m\u001b[1;33m\u001b[0m\u001b[0m\n\u001b[0m\u001b[0;32m     26\u001b[0m \u001b[0mclear_output\u001b[0m\u001b[1;33m(\u001b[0m\u001b[1;33m)\u001b[0m\u001b[1;33m\u001b[0m\u001b[0m\n",
      "\u001b[1;31mKeyboardInterrupt\u001b[0m: "
     ]
    }
   ],
   "source": [
    "from IPython.display import clear_output\n",
    "import time\n",
    "w77 = np.zeros((7,7))\n",
    "w77[2:5,2:5] = 1.0\n",
    "\n",
    "cm = colors.ListedColormap([\"#00000000\",\"#EE0000\", '#CC000080','#CC0000'])\n",
    "w77mean = np.zeros_like(w77)\n",
    "for i in range(0,7):\n",
    "    for j in range(0,7):\n",
    "        window = w77[max(0,(i-1)):min(7,(i+1+1)),max(0,(j-1)):min(7,(j+1+1))]\n",
    "        w77mean[i,j] = np.mean(window)\n",
    "        w77proc = np.zeros_like(w77)\n",
    "        w77proc[max(0,(i-1)):min(7,(i+1+1)),max(0,(j-1)):min(7,(j+1+1))] = 1\n",
    "        w77proc[i,j] = 2\n",
    "        clear_output()\n",
    "        fig = plt.figure(figsize=(10, 10))\n",
    "        ax0 = plt.subplot(121)\n",
    "        ax0.imshow(w77,cmap=plt.get_cmap('gray'))\n",
    "        ax0.imshow(w77proc,cmap=cm)\n",
    "        ax0.set_title(\"Starting image 3x3\")\n",
    "        ax1 = plt.subplot(122)\n",
    "        ax1.imshow(w77mean,cmap=plt.get_cmap('gray'))\n",
    "        ax1.set_title(\"Filtered image\")\n",
    "        plt.show()\n",
    "        time.sleep(1)"
   ]
  },
  {
   "cell_type": "code",
   "execution_count": 9,
   "metadata": {},
   "outputs": [
    {
     "name": "stderr",
     "output_type": "stream",
     "text": [
      "C:\\ProgramData\\Anaconda3\\lib\\site-packages\\skimage\\util\\dtype.py:141: UserWarning: Possible precision loss when converting from float64 to uint8\n",
      "  .format(dtypeobj_in, dtypeobj_out))\n"
     ]
    }
   ],
   "source": [
    "from skimage.filters import median\n",
    "\n",
    "## filtr medianowy\n",
    "w3 = np.ones((3,3)) # wielkość okna\n",
    "med3 = median(ice,selem=w3)\n",
    "\n",
    "w5 = np.ones((5,5)) # wielkość okna\n",
    "med5 = median(ice,selem=w5)\n",
    "\n",
    "w7 = np.ones((7,7)) # wielkość okna\n",
    "med7 = median(ice,selem=w7)\n",
    "\n",
    "fig = plt.figure(figsize=(20, 10))\n",
    "ax0 = plt.subplot(231)\n",
    "ax0.imshow(med3,cmap=plt.get_cmap('gray'))\n",
    "ax0.set_title(\"Median filter 3x3\")\n",
    "ax1 = plt.subplot(232)\n",
    "ax1.imshow(med5,cmap=plt.get_cmap('gray'))\n",
    "ax1.set_title(\"Median filter 5x5\")\n",
    "ax2 = plt.subplot(233)\n",
    "ax2.imshow(med7,cmap=plt.get_cmap('gray'))\n",
    "ax2.set_title(\"Median filter 7x7\")\n",
    "\n",
    "w33 = np.linspace(1,9,9).reshape(3,3); w3[1,1] = 0\n",
    "w55 = np.linspace(1,25,25).reshape(5,5);w5[2,2] = 0\n",
    "w77 = np.linspace(1,49,49).reshape(7,7);w7[3,3] = 0 \n",
    "cm = colors.ListedColormap([\"#CC0000\", '#E6E6E600'])\n",
    "\n",
    "ax3 = plt.subplot(234)\n",
    "ax3.imshow(w33,cmap=plt.get_cmap('gray'))\n",
    "ax3.imshow(w3,cmap=cm)\n",
    "ax3.set_title(\"Window 3x3\")\n",
    "ax4 = plt.subplot(235)\n",
    "ax4.imshow(w55,cmap=plt.get_cmap('gray'))\n",
    "ax4.imshow(w5,cmap=cm)\n",
    "ax4.set_title(\"Window 5x5\")\n",
    "ax5 = plt.subplot(236)\n",
    "ax5.imshow(w77,cmap=plt.get_cmap('gray'))\n",
    "ax5.imshow(w7,cmap=cm)\n",
    "ax5.set_title(\"Window 7x7\")\n",
    "\n",
    "fig.tight_layout()\n",
    "plt.show()"
   ]
  },
  {
   "cell_type": "code",
   "execution_count": 14,
   "metadata": {
    "collapsed": true
   },
   "outputs": [],
   "source": [
    "from skimage.filters import gaussian\n",
    "\n",
    "\n",
    "## filtr gaussa\n",
    "g1 = gaussian(ice, sigma=1.5, preserve_range=True)\n",
    "g2 = gaussian(ice, sigma=3, preserve_range=True)\n",
    "\n",
    "fig = plt.figure(figsize=(20, 30))\n",
    "ax0 = plt.subplot(131)\n",
    "ax0.imshow(ice,cmap=plt.get_cmap('gray'))\n",
    "ax0.set_title(\"Original file\")\n",
    "ax1 = plt.subplot(132)\n",
    "ax1.imshow(g1,cmap=plt.get_cmap('gray'))\n",
    "ax1.set_title(\"Gaussian filter sigma = 1.5\")\n",
    "ax2 = plt.subplot(133)\n",
    "ax2.imshow(g2,cmap=plt.get_cmap('gray'))\n",
    "ax2.set_title(\"Gaussian filter sigma = 3\")\n",
    "\n",
    "fig.tight_layout()\n",
    "plt.show()"
   ]
  },
  {
   "cell_type": "code",
   "execution_count": 15,
   "metadata": {
    "collapsed": true
   },
   "outputs": [],
   "source": [
    "from skimage.restoration import denoise_tv_chambolle, denoise_bilateral, denoise_wavelet\n",
    "\n",
    "## filtr \n",
    "chambolle_a = denoise_tv_chambolle(ice, weight=0.1, multichannel=False)\n",
    "bilat_a = denoise_bilateral(ice, sigma_color=0.05, sigma_spatial=15,multichannel=False)\n",
    "wavelet = denoise_wavelet(ice, multichannel=False)\n",
    "chambolle_b = denoise_tv_chambolle(ice, weight=0.5, multichannel=False)\n",
    "bilat_b = denoise_bilateral(ice, sigma_color=0.1, sigma_spatial=30,multichannel=False)\n",
    "\n",
    "\n",
    "fig = plt.figure(figsize=(20, 10))\n",
    "ax0 = plt.subplot(231)\n",
    "ax0.imshow(ice,cmap=plt.get_cmap('gray'))\n",
    "ax0.set_title(\"Original file\")\n",
    "ax1 = plt.subplot(232)\n",
    "ax1.imshow(chambolle_a,cmap=plt.get_cmap('gray'))\n",
    "ax1.set_title(\"TV Chambolle filter (a)\")\n",
    "ax2 = plt.subplot(233)\n",
    "ax2.imshow(bilat_a,cmap=plt.get_cmap('gray'))\n",
    "ax2.set_title(\"Bilateral filter (a)\")\n",
    "\n",
    "ax3 = plt.subplot(234)\n",
    "ax3.imshow(wavelet,cmap=plt.get_cmap('gray'))\n",
    "ax3.set_title(\"Wavelet filter\")\n",
    "ax4 = plt.subplot(235)\n",
    "ax4.imshow(chambolle_b,cmap=plt.get_cmap('gray'))\n",
    "ax4.set_title(\"TV Chambolle filter (b)\")\n",
    "ax5 = plt.subplot(236)\n",
    "ax5.imshow(bilat_b,cmap=plt.get_cmap('gray'))\n",
    "ax5.set_title(\"Bilateral filter (b)\")\n",
    "\n",
    "fig.tight_layout()\n",
    "plt.show()"
   ]
  },
  {
   "cell_type": "markdown",
   "metadata": {},
   "source": [
    "<i>-------Śledzenie zmiany sygnału na przekroju-------</i>"
   ]
  },
  {
   "cell_type": "code",
   "execution_count": 19,
   "metadata": {
    "collapsed": true
   },
   "outputs": [],
   "source": [
    "from matplotlib import colors\n",
    "\n",
    "org = ice[300,:]\n",
    "bilateral = bilat_a[300,:]\n",
    "wave = wavelet[300,:]\n",
    "chambolle = chambolle_a[300,:]\n",
    "\n",
    "cm = colors.ListedColormap(['#E6E6E600',\"#CC0000\"])\n",
    "line = np.zeros_like(ice)\n",
    "line[300,:] = 1\n",
    "\n",
    "fig = plt.figure(figsize=(20, 10))\n",
    "ax0 = plt.subplot(121)\n",
    "ax0.imshow(ice,cmap=plt.get_cmap('gray'))\n",
    "ax0.imshow(line,cmap=cm)\n",
    "ax0.set_title(\"Profile location\")\n",
    "ax1 = plt.subplot(122)\n",
    "ax1.plot(org,color='black')\n",
    "ax1.plot(wave,color='green')\n",
    "ax1.plot(bilateral,color='blue')\n",
    "ax1.plot(chambolle,color='red')\n",
    "ax1.set_title(\"Intersect\")\n",
    "\n",
    "plt.show()"
   ]
  },
  {
   "cell_type": "markdown",
   "metadata": {},
   "source": [
    "<i>-------Miary używane do porównywania obrazów-------</i>"
   ]
  },
  {
   "cell_type": "code",
   "execution_count": 22,
   "metadata": {
    "collapsed": true
   },
   "outputs": [],
   "source": [
    "from skimage.measure import compare_ssim, compare_psnr\n",
    "\n",
    "def MSE(A, B):\n",
    "     return(np.square(A - B).mean())\n",
    "\n",
    "\n",
    "    #Oblicz SSIM (Structural Similarity Index)\n",
    "ssim_bilat_a = compare_ssim(ice,bilat_a,win_size=7,multichannel=False)\n",
    "ssim_chambolle_a = compare_ssim(ice,chambolle_a,win_size=7,multichannel=False)\n",
    "ssim_wavelet = compare_ssim(ice,wavelet,win_size=7,multichannel=False)\n",
    "ssim_bilat_b = compare_ssim(ice,bilat_b,win_size=7,multichannel=False)\n",
    "ssim_chambolle_b = compare_ssim(ice,chambolle_b,win_size=7,multichannel=False)\n",
    "\n",
    "# Oblicz MSE (Mean Square Error)\n",
    "MSE_bilat_a = MSE(ice,bilat_a)\n",
    "MSE_chambolle_a = MSE(ice,chambolle_a)\n",
    "MSE_wavelet = MSE(ice,wavelet)\n",
    "MSE_bilat_b = MSE(ice,bilat_b)\n",
    "MSE_chambolle_b = MSE(ice,chambolle_b)\n",
    "\n",
    "# Oblicz PSNR (Peak Signal to Noise Ratio)\n",
    "psnr_bilat_a = compare_psnr(ice,bilat_a)\n",
    "psnr_chambolle_a = compare_psnr(ice,chambolle_a)\n",
    "psnr_wavelet = compare_psnr(ice,wavelet)\n",
    "psnr_bilat_b = compare_psnr(ice,bilat_b)\n",
    "psnr_chambolle_b = compare_psnr(ice,chambolle_b)\n",
    "\n",
    "print(\"TV Chambolle filter (a):\\t\\tMSE: %.3f, SSIM: %.3f, PSNR: %.3f\" % \n",
    "      (MSE_chambolle_a,ssim_chambolle_a,psnr_chambolle_a))\n",
    "print(\"Bilateral filter (a):\\t\\t\\tMSE: %.3f, SSIM: %.3f, PSNR: %.3f\" % \n",
    "      (MSE_bilat_a,ssim_bilat_a,psnr_bilat_a))\n",
    "print(\"Wavelet filter:\\t\\t\\t\\tMSE: %.3f, SSIM: %.3f, PSNR: %.3f\" % \n",
    "      (MSE_wavelet,ssim_wavelet,psnr_wavelet))\n",
    "print(\"TV Chambolle filter (b):\\t\\tMSE: %.3f, SSIM: %.3f, PSNR: %.3f\" % \n",
    "      (MSE_chambolle_b,ssim_chambolle_b,psnr_chambolle_b))\n",
    "print(\"Bilateral filter (b):\\t\\t\\tMSE: %.3f, SSIM: %.3f, PSNR: %.3f\" % \n",
    "      (MSE_bilat_b,ssim_bilat_b,psnr_bilat_b))"
   ]
  },
  {
   "cell_type": "markdown",
   "metadata": {},
   "source": [
    "<i>-------Wydobywanie granic obiektów-------</i>"
   ]
  },
  {
   "cell_type": "code",
   "execution_count": 24,
   "metadata": {
    "collapsed": true
   },
   "outputs": [],
   "source": [
    "from skimage.filters import sobel, prewitt, roberts\n",
    "\n",
    "# okno poglądowe\n",
    "w = np.zeros((7,7)) \n",
    "w[3,3] = 1\n",
    "\n",
    "## filtr Sobela\n",
    "wS = sobel(w)\n",
    "iceS = sobel(ice)\n",
    "\n",
    "# filtr Prewitta\n",
    "wP = prewitt(w)\n",
    "iceP = prewitt(ice)\n",
    "\n",
    "#filt Robertsa\n",
    "wR = roberts(w)\n",
    "iceR = roberts(ice)\n",
    "\n",
    "fig = plt.figure(figsize=(20, 10))\n",
    "ax0 = plt.subplot(331)\n",
    "ax0.imshow(wS,cmap=plt.get_cmap('gray'))\n",
    "ax0.set_title(\"Sobel filter\")\n",
    "ax1 = plt.subplot(332)\n",
    "ax1.imshow(wP,cmap=plt.get_cmap('gray'))\n",
    "ax1.set_title(\"Prewitt filter\")\n",
    "ax2 = plt.subplot(333)\n",
    "ax2.imshow(wR,cmap=plt.get_cmap('gray'))\n",
    "ax2.set_title(\"Roberts filter\")\n",
    "\n",
    "ax3 = plt.subplot(334)\n",
    "ax3.imshow(iceS,cmap=plt.get_cmap('gray'))\n",
    "ax3.set_title(\"Sobel filter\")\n",
    "ax4 = plt.subplot(335)\n",
    "ax4.imshow(iceP,cmap=plt.get_cmap('gray'))\n",
    "ax4.set_title(\"Prewitt filter\")\n",
    "ax5 = plt.subplot(336)\n",
    "ax5.imshow(iceR,cmap=plt.get_cmap('gray'))\n",
    "ax5.set_title(\"Roberts filter\")\n",
    "\n",
    "ax6 = plt.subplot(337)\n",
    "ax6.imshow(iceS[400:600,300:500],cmap=plt.get_cmap('gray'))\n",
    "ax6.set_title(\"Sobel filter\")\n",
    "ax7 = plt.subplot(338)\n",
    "ax7.imshow(iceP[400:600,300:500],cmap=plt.get_cmap('gray'))\n",
    "ax7.set_title(\"Prewitt filter\")\n",
    "ax8 = plt.subplot(339)\n",
    "ax8.imshow(iceR[400:600,300:500],cmap=plt.get_cmap('gray'))\n",
    "ax8.set_title(\"Roberts filter\")\n",
    "\n",
    "\n",
    "fig.tight_layout()\n",
    "plt.show()"
   ]
  },
  {
   "cell_type": "code",
   "execution_count": 26,
   "metadata": {},
   "outputs": [
    {
     "name": "stderr",
     "output_type": "stream",
     "text": [
      "C:\\ProgramData\\Anaconda3\\lib\\site-packages\\skimage\\util\\dtype.py:141: UserWarning: Possible precision loss when converting from float64 to uint8\n",
      "  .format(dtypeobj_in, dtypeobj_out))\n"
     ]
    }
   ],
   "source": [
    "from skimage.filters import median, sobel, prewitt, roberts\n",
    "\n",
    "# wstępna filtracja\n",
    "w = np.ones((7,7)) \n",
    "M = median(ice,selem=w)\n",
    "\n",
    "## filtr Sobela\n",
    "iceS = sobel(ice)\n",
    "iceMS = sobel(M)\n",
    "\n",
    "# filtr Prewitta\n",
    "iceP = prewitt(ice)\n",
    "iceMP = prewitt(M)\n",
    "\n",
    "#filt Robertsa\n",
    "iceR = roberts(ice)\n",
    "iceMR = roberts(M)\n",
    "\n",
    "fig = plt.figure(figsize=(20, 10))\n",
    "ax0 = plt.subplot(331)\n",
    "ax0.imshow(iceS,cmap=plt.get_cmap('gray'))\n",
    "ax0.set_title(\"Sobel filter\")\n",
    "ax1 = plt.subplot(332)\n",
    "ax1.imshow(iceP,cmap=plt.get_cmap('gray'))\n",
    "ax1.set_title(\"Prewitt filter\")\n",
    "ax2 = plt.subplot(333)\n",
    "ax2.imshow(iceR,cmap=plt.get_cmap('gray'))\n",
    "ax2.set_title(\"Roberts filter\")\n",
    "\n",
    "ax3 = plt.subplot(334)\n",
    "ax3.imshow(iceS[400:600,300:500],cmap=plt.get_cmap('gray'))\n",
    "ax3.set_title(\"Sobel filter\")\n",
    "ax4 = plt.subplot(335)\n",
    "ax4.imshow(iceP[400:600,300:500],cmap=plt.get_cmap('gray'))\n",
    "ax4.set_title(\"Prewitt filter\")\n",
    "ax5 = plt.subplot(336)\n",
    "ax5.imshow(iceR[400:600,300:500],cmap=plt.get_cmap('gray'))\n",
    "ax5.set_title(\"Roberts filter\")\n",
    "\n",
    "ax6 = plt.subplot(337)\n",
    "ax6.imshow(iceMS[400:600,300:500],cmap=plt.get_cmap('gray'))\n",
    "ax6.set_title(\"Sobel filter\")\n",
    "ax7 = plt.subplot(338)\n",
    "ax7.imshow(iceMP[400:600,300:500],cmap=plt.get_cmap('gray'))\n",
    "ax7.set_title(\"Prewitt filter\")\n",
    "ax8 = plt.subplot(339)\n",
    "ax8.imshow(iceMR[400:600,300:500],cmap=plt.get_cmap('gray'))\n",
    "ax8.set_title(\"Roberts filter\")\n",
    "\n",
    "\n",
    "fig.tight_layout()\n",
    "plt.show()"
   ]
  },
  {
   "cell_type": "code",
   "execution_count": 28,
   "metadata": {},
   "outputs": [
    {
     "name": "stderr",
     "output_type": "stream",
     "text": [
      "C:\\ProgramData\\Anaconda3\\lib\\site-packages\\skimage\\util\\dtype.py:141: UserWarning: Possible precision loss when converting from float64 to uint8\n",
      "  .format(dtypeobj_in, dtypeobj_out))\n"
     ]
    }
   ],
   "source": [
    "from skimage.filters import median, sobel_h, sobel_v, prewitt_h, prewitt_v, roberts_pos_diag, roberts_neg_diag\n",
    "\n",
    "# przybliżenie i wstępna filtracja\n",
    "zoom = ice[400:600,300:500]\n",
    "w = np.ones((5,5)) \n",
    "M = median(zoom,selem=w)\n",
    "\n",
    "test = np.zeros((7,7))\n",
    "test[3,3] = 1\n",
    "\n",
    "## filtr Sobela\n",
    "iceS = sobel_h(test)\n",
    "icehS = sobel_h(M)\n",
    "icevS = sobel_v(M)\n",
    "\n",
    "# filtr Prewitta\n",
    "iceP = prewitt_h(test)\n",
    "icehP = prewitt_h(M)\n",
    "icevP = prewitt_v(M)\n",
    "\n",
    "#filt Robertsa\n",
    "iceR = roberts_neg_diag(test)\n",
    "icepR = roberts_pos_diag(M)\n",
    "icenR = roberts_neg_diag(M)\n",
    "\n",
    "fig = plt.figure(figsize=(20, 10))\n",
    "ax0 = plt.subplot(331)\n",
    "ax0.imshow(iceS,cmap=plt.get_cmap('gray'))\n",
    "ax0.set_title(\"Sobel filter - horizontal\")\n",
    "ax1 = plt.subplot(332)\n",
    "ax1.imshow(iceP,cmap=plt.get_cmap('gray'))\n",
    "ax1.set_title(\"Prewitt filter - horizontal\")\n",
    "ax2 = plt.subplot(333)\n",
    "ax2.imshow(iceR,cmap=plt.get_cmap('gray'))\n",
    "ax2.set_title(\"Roberts filter - negative diag\")\n",
    "\n",
    "ax3 = plt.subplot(334)\n",
    "ax3.imshow(icehS,cmap=plt.get_cmap('gray'))\n",
    "ax3.set_title(\"Sobel filter - horizontal\")\n",
    "ax4 = plt.subplot(335)\n",
    "ax4.imshow(icehP,cmap=plt.get_cmap('gray'))\n",
    "ax4.set_title(\"Prewitt filter - horizontal\")\n",
    "ax5 = plt.subplot(336)\n",
    "ax5.imshow(icepR,cmap=plt.get_cmap('gray'))\n",
    "ax5.set_title(\"Roberts filter - positive\")\n",
    "\n",
    "ax6 = plt.subplot(337)\n",
    "ax6.imshow(icevS,cmap=plt.get_cmap('gray'))\n",
    "ax6.set_title(\"Sobel filter - vertical\")\n",
    "ax7 = plt.subplot(338)\n",
    "ax7.imshow(icevP,cmap=plt.get_cmap('gray'))\n",
    "ax7.set_title(\"Prewitt filter- vertical\")\n",
    "ax8 = plt.subplot(339)\n",
    "ax8.imshow(icenR,cmap=plt.get_cmap('gray'))\n",
    "ax8.set_title(\"Roberts filter - negative\")\n",
    "\n",
    "\n",
    "fig.tight_layout()\n",
    "plt.show()"
   ]
  },
  {
   "cell_type": "markdown",
   "metadata": {},
   "source": [
    "<i>-------Tworzenie map binarnych-------</i>"
   ]
  },
  {
   "cell_type": "code",
   "execution_count": 29,
   "metadata": {
    "collapsed": true
   },
   "outputs": [],
   "source": [
    "from skimage.filters import try_all_threshold\n",
    "\n",
    "ice = exposure.equalize_hist(aoi)\n",
    "fig, ax = try_all_threshold(ice, figsize=(20, 20), verbose=False)\n",
    "plt.show()"
   ]
  },
  {
   "cell_type": "markdown",
   "metadata": {},
   "source": [
    "<i>-------\"Czyszczenie\" map binarnych-------</i>"
   ]
  },
  {
   "cell_type": "code",
   "execution_count": 33,
   "metadata": {},
   "outputs": [
    {
     "name": "stdout",
     "output_type": "stream",
     "text": [
      "Thershlod value: 0.29102\n"
     ]
    },
    {
     "name": "stderr",
     "output_type": "stream",
     "text": [
      "C:\\ProgramData\\Anaconda3\\lib\\site-packages\\skimage\\util\\dtype.py:141: UserWarning: Possible precision loss when converting from float64 to int16\n",
      "  .format(dtypeobj_in, dtypeobj_out))\n",
      "C:\\ProgramData\\Anaconda3\\lib\\site-packages\\skimage\\morphology\\misc.py:203: UserWarning: Any labeled images will be returned as a boolean array. Did you mean to use a boolean array?\n",
      "  \"Did you mean to use a boolean array?\", UserWarning)\n",
      "C:\\ProgramData\\Anaconda3\\lib\\site-packages\\skimage\\morphology\\misc.py:207: UserWarning: the min_size argument is deprecated and will be removed in 0.16. Use area_threshold instead.\n",
      "  \"0.16. Use area_threshold instead.\")\n"
     ]
    }
   ],
   "source": [
    "from matplotlib import colors\n",
    "from skimage import exposure\n",
    "from skimage.filters import threshold_triangle\n",
    "from skimage.morphology import binary_opening, binary_closing, remove_small_objects ,remove_small_holes\n",
    "\n",
    "dich = np.zeros((ice.shape[0],ice.shape[1]))\n",
    "d = np.zeros((ice.shape[0],ice.shape[1])) + ice\n",
    "T = threshold_triangle(ice)\n",
    "print(\"Thershlod value: %.5f\" % T)\n",
    "dich[d < T] = 1\n",
    "dich[d >= T] = 0\n",
    "\n",
    "zoom = img_as_int(dich[100:200,100:200])\n",
    "d = d * 0\n",
    "d[100:200,100:200] = 1\n",
    "cm = colors.ListedColormap([\"#CC000000\", \"#CC000080\"])\n",
    "\n",
    "binaryO = binary_opening(zoom)\n",
    "binaryC = binary_closing(zoom)\n",
    "smObj = remove_small_objects(zoom,in_place=False,min_size=64,connectivity=2)\n",
    "smHoles = remove_small_holes(zoom,in_place=False,min_size=64,connectivity=2)\n",
    "\n",
    "fig = plt.figure(figsize=(20, 10))\n",
    "ax0 = plt.subplot(231)\n",
    "ax0.imshow(dich,cmap=plt.get_cmap('gray'))\n",
    "ax0.imshow(d,cmap=cm)\n",
    "ax0.set_title(\"Black & white mask\")\n",
    "ax1 = plt.subplot(232)\n",
    "ax1.imshow(binaryO,cmap=plt.get_cmap('gray'))\n",
    "ax1.set_title(\"Binary opening filter\")\n",
    "ax2 = plt.subplot(233)\n",
    "ax2.imshow(binaryC,cmap=plt.get_cmap('gray'))\n",
    "ax2.set_title(\"Binary closing filter\")\n",
    "\n",
    "ax3 = plt.subplot(234)\n",
    "ax3.imshow(zoom,cmap=plt.get_cmap('gray'))\n",
    "ax3.set_title(\"Black & white zoom\")\n",
    "ax4 = plt.subplot(235)\n",
    "ax4.imshow(smObj,cmap=plt.get_cmap('gray'))\n",
    "ax4.set_title(\"Removed objects (64)\")\n",
    "ax5 = plt.subplot(236)\n",
    "ax5.imshow(smHoles,cmap=plt.get_cmap('gray'))\n",
    "ax5.set_title(\"Removed holes (64)\")\n",
    "\n",
    "plt.show()"
   ]
  },
  {
   "cell_type": "markdown",
   "metadata": {},
   "source": [
    "<i>-------Opis tekstury obrazu-------</i>"
   ]
  },
  {
   "cell_type": "code",
   "execution_count": 35,
   "metadata": {
    "collapsed": true
   },
   "outputs": [],
   "source": [
    "# Wczytanie fragmentu obrazu \n",
    "img = im[7600:8600,3500:4500]\n",
    "up = np.percentile(img,98)\n",
    "down = np.percentile(img,5)\n",
    "s = exposure.rescale_intensity(img,in_range=(down,up)) # przeskalowanie wartości\n",
    "plt.imshow(s,cmap=plt.get_cmap('gray'))\n",
    "plt.show()"
   ]
  },
  {
   "cell_type": "code",
   "execution_count": 37,
   "metadata": {},
   "outputs": [
    {
     "name": "stderr",
     "output_type": "stream",
     "text": [
      "C:\\ProgramData\\Anaconda3\\lib\\site-packages\\skimage\\util\\dtype.py:137: UserWarning: Possible sign loss when converting negative image of type int32 to positive image of type uint8.\n",
      "  .format(dtypeobj_in, dtypeobj_out))\n",
      "C:\\ProgramData\\Anaconda3\\lib\\site-packages\\skimage\\util\\dtype.py:141: UserWarning: Possible precision loss when converting from int32 to uint8\n",
      "  .format(dtypeobj_in, dtypeobj_out))\n"
     ]
    }
   ],
   "source": [
    "from matplotlib import colors\n",
    "from skimage import img_as_ubyte\n",
    "\n",
    "small = img_as_ubyte(s)\n",
    "source =  small * 0\n",
    "legend = []\n",
    "ice_areas = []\n",
    "dark_ice_areas = []\n",
    "land_areas = []\n",
    "\n",
    "# Zdefiniuj wzorcowe obszary dla każdej klasy\n",
    "# Lód\n",
    "ice_ul = [(180, 400), (100, 500), (50, 700)]\n",
    "for ul in ice_ul:\n",
    "    ice_areas.append(small[ul[0]:(ul[0]+25),\n",
    "                           ul[1]:(ul[1]+25)])\n",
    "    source[ul[0]:(ul[0]+25),ul[1]:(ul[1]+25)] = 1                      \n",
    "    legend.append(1)\n",
    "# Ciemne pola cienkiego lodu\n",
    "dark_ice_ul = [(400, 200), (300, 800), (650, 800)]\n",
    "for ul in dark_ice_ul:\n",
    "    dark_ice_areas.append(small[ul[0]:(ul[0]+25),\n",
    "                           ul[1]:(ul[1]+25)])\n",
    "    source[ul[0]:(ul[0]+25),ul[1]:(ul[1]+25)] = 2\n",
    "    legend.append(2)\n",
    "# Ląd\n",
    "land_ul = [(350, 450), (650, 300), (700, 100)]\n",
    "for ul in land_ul:\n",
    "    land_areas.append(small[ul[0]:(ul[0]+25),\n",
    "                           ul[1]:(ul[1]+25)])\n",
    "    source[ul[0]:(ul[0]+25),ul[1]:(ul[1]+25)] = 3\n",
    "    legend.append(3)\n",
    "    \n",
    "cm = colors.ListedColormap([\"#FFFFFF00\", '#5EC9BE','#2CE618','#E69B18'])\n",
    "plt.imshow(small,cmap=plt.get_cmap('gray'))\n",
    "plt.imshow(source,cmap=cm)\n",
    "plt.show()    "
   ]
  },
  {
   "cell_type": "code",
   "execution_count": 39,
   "metadata": {
    "collapsed": true
   },
   "outputs": [],
   "source": [
    "from skimage.feature import greycomatrix, greycoprops\n",
    "\n",
    "# Wyznacz charakterystyki dla każdej z grup\n",
    "diss = []\n",
    "homog = []\n",
    "contrast = []\n",
    "energy = []\n",
    "corr = []\n",
    "for area in (ice_areas + dark_ice_areas + land_areas):\n",
    "    glcm = greycomatrix(area, [10], [5], 256, symmetric=False, normed=True)\n",
    "    diss.append(greycoprops(glcm, 'dissimilarity')[0, 0])\n",
    "    homog.append(greycoprops(glcm, 'homogeneity')[0, 0])\n",
    "    contrast.append(greycoprops(glcm, 'contrast')[0, 0])\n",
    "    energy.append(greycoprops(glcm, 'energy')[0, 0])\n",
    "    corr.append(greycoprops(glcm, 'correlation')[0, 0])\n",
    "\n",
    "# Parametry GLCM: ‘contrast’, ‘dissimilarity’, ‘homogeneity’, ‘energy’, ‘correlation’\n",
    "\n",
    "# Narysuj wybrane zależności\n",
    "cm = colors.ListedColormap(['#5EC9BE','#2CE618','#E69B18'])\n",
    "fig = plt.figure(figsize=(30,5))\n",
    "ax0 = plt.subplot(131)\n",
    "ax0.scatter(diss, corr, c=legend, cmap=cm)\n",
    "ax0.set_xlabel(\"Dissimilarity\",fontsize=25)\n",
    "ax0.set_ylabel(\"Correlation\",fontsize=25)\n",
    "ax1 = plt.subplot(132)\n",
    "ax1.scatter(contrast, energy, c=legend, cmap=cm)\n",
    "ax1.set_xlabel(\"Contrast\",fontsize=25)\n",
    "ax1.set_ylabel(\"Energy\",fontsize=25)\n",
    "ax2 = plt.subplot(133)\n",
    "ax2.scatter(diss, homog, c=legend, cmap=cm)\n",
    "ax2.set_xlabel(\"Dissimilarity\",fontsize=25)\n",
    "ax2.set_ylabel(\"Homogeneity\",fontsize=25)\n",
    "\n",
    "plt.show()"
   ]
  },
  {
   "cell_type": "markdown",
   "metadata": {},
   "source": [
    "<i>-------Opis tekstury obrazu kolorowego-------</i>"
   ]
  },
  {
   "cell_type": "code",
   "execution_count": 40,
   "metadata": {},
   "outputs": [
    {
     "name": "stderr",
     "output_type": "stream",
     "text": [
      "C:\\ProgramData\\Anaconda3\\lib\\site-packages\\skimage\\io\\_io.py:49: UserWarning: `as_grey` has been deprecated in favor of `as_gray`\n",
      "  warn('`as_grey` has been deprecated in favor of `as_gray`')\n"
     ]
    }
   ],
   "source": [
    "img = io.imread('S2A_MSIL1C_20190108T095401_N0207_R079_Gozo.tif')\n",
    "gmg = io.imread('S2A_MSIL1C_20190108T095401_N0207_R079_Gozo.tif', as_grey=True)\n",
    "\n",
    "red = img[:,:,2]\n",
    "green = img[:,:,1]\n",
    "blue = img[:,:,0]"
   ]
  },
  {
   "cell_type": "code",
   "execution_count": 42,
   "metadata": {},
   "outputs": [
    {
     "name": "stderr",
     "output_type": "stream",
     "text": [
      "C:\\ProgramData\\Anaconda3\\lib\\site-packages\\skimage\\util\\dtype.py:141: UserWarning: Possible precision loss when converting from float64 to uint8\n",
      "  .format(dtypeobj_in, dtypeobj_out))\n"
     ]
    }
   ],
   "source": [
    "from skimage import exposure\n",
    "from skimage import img_as_ubyte, img_as_float, img_as_int\n",
    "\n",
    "def contrast_perc(band, d, u):\n",
    "    lower = np.percentile(band,d)\n",
    "    upper = np.percentile(band,u)\n",
    "    rescaled = exposure.rescale_intensity(band,in_range=(lower, upper))\n",
    "    \n",
    "    return(rescaled)\n",
    "\n",
    "# Zmień kontrast \n",
    "# pomiędzy percentylami\n",
    "pU = 98; pD = 7\n",
    "perc_red = contrast_perc(red, pD, pU)\n",
    "perc_green = contrast_perc(green, pD, pU)\n",
    "perc_blue = contrast_perc(blue, pD, pU)\n",
    "perc = img_as_float(np.stack([perc_red, perc_green, perc_blue], axis=2))\n",
    "\n",
    "foto = img_as_ubyte(contrast_perc(gmg, 1, 98))\n",
    "\n",
    "fig = plt.figure(figsize=(10,10))\n",
    "ax0 = plt.subplot(121)\n",
    "ax0.imshow(perc)\n",
    "ax0.set_title(\"RGB image\")\n",
    "ax1 = plt.subplot(122)\n",
    "ax1.imshow(foto,cmap=plt.get_cmap('gray'))\n",
    "ax1.set_title(\"Grayscale image\")\n",
    "\n",
    "plt.show()"
   ]
  },
  {
   "cell_type": "code",
   "execution_count": 44,
   "metadata": {
    "collapsed": true
   },
   "outputs": [],
   "source": [
    "from matplotlib import colors\n",
    "from skimage import img_as_ubyte, img_as_float, img_as_int\n",
    "\n",
    "delta = 20\n",
    "\n",
    "source =  np.zeros_like(foto)\n",
    "legend = []\n",
    "sea_areas = []\n",
    "forest_areas = []\n",
    "grass_areas = []\n",
    "urban_areas = []\n",
    "\n",
    "# Zdefiniuj wzorcowe obszary dla każdej klasy\n",
    "# Morze\n",
    "sea_ul = [(0, 0), (0, 500), (50, 500)]\n",
    "for ul in sea_ul:\n",
    "    sea_areas.append(foto[ul[0]:(ul[0]+delta),\n",
    "                           ul[1]:(ul[1]+delta)])\n",
    "    source[ul[0]:(ul[0]+delta),ul[1]:(ul[1]+delta)] = 1                      \n",
    "    legend.append(1)\n",
    "# Las\n",
    "forest_ul = [(75,75), (125,125), (300,450),(225,50)]\n",
    "for ul in forest_ul:\n",
    "    forest_areas.append(foto[ul[0]:(ul[0]+delta),\n",
    "                           ul[1]:(ul[1]+delta)])\n",
    "    source[ul[0]:(ul[0]+delta),ul[1]:(ul[1]+delta)] = 2\n",
    "    legend.append(2)\n",
    "# Trawy / Łąki\n",
    "grass_ul = [(250, 130), (210,270), (220,400)]\n",
    "for ul in grass_ul:\n",
    "    grass_areas.append(foto[ul[0]:(ul[0]+delta),\n",
    "                           ul[1]:(ul[1]+delta)])\n",
    "    source[ul[0]:(ul[0]+delta),ul[1]:(ul[1]+delta)] = 3\n",
    "    legend.append(3)\n",
    "    \n",
    "# Zabudowania\n",
    "urban_ul = [(100,370), (350,450), (175,165)]\n",
    "for ul in urban_ul:\n",
    "    urban_areas.append(foto[ul[0]:(ul[0]+delta),\n",
    "                           ul[1]:(ul[1]+delta)])\n",
    "    source[ul[0]:(ul[0]+delta),ul[1]:(ul[1]+delta)] = 4\n",
    "    legend.append(4)\n",
    "\n",
    "cm = colors.ListedColormap([\"#FFFFFF00\", '#5EC9BE','#2CE618','#E69B18','#CC0000'])\n",
    "plt.imshow(foto,cmap=plt.get_cmap('gray'))\n",
    "plt.imshow(source,cmap=cm)\n",
    "plt.show()"
   ]
  },
  {
   "cell_type": "code",
   "execution_count": 46,
   "metadata": {
    "collapsed": true
   },
   "outputs": [],
   "source": [
    "from skimage.feature import greycomatrix, greycoprops\n",
    "    \n",
    "# compute some GLCM properties each patch\n",
    "diss = []\n",
    "homog = []\n",
    "contrast = []\n",
    "energy = []\n",
    "corr = []\n",
    "for area in (sea_areas + forest_areas + grass_areas + urban_areas):\n",
    "#    glcm = greycomatrix(area, [5], [0], 256, symmetric=True, normed=True)\n",
    "    glcm = greycomatrix(area, [10], [5], 256, symmetric=False, normed=True)\n",
    "    diss.append(greycoprops(glcm, 'dissimilarity')[0, 0])\n",
    "    homog.append(greycoprops(glcm, 'homogeneity')[0, 0])\n",
    "    contrast.append(greycoprops(glcm, 'contrast')[0, 0])\n",
    "    energy.append(greycoprops(glcm, 'energy')[0, 0])\n",
    "    corr.append(greycoprops(glcm, 'correlation')[0, 0])\n",
    "\n",
    "# GLCM properties ‘contrast’, ‘dissimilarity’, ‘homogeneity’, ‘energy’, ‘correlation’, ‘ASM’\n",
    "\n",
    "# Narysuj wybrane zależności\n",
    "cm = colors.ListedColormap(['#5EC9BE','#2CE618','#E69B18','#CC0000'])\n",
    "\n",
    "fig = plt.figure(figsize=(30,5))\n",
    "ax0 = plt.subplot(131)\n",
    "ax0.scatter(diss, corr, c=legend, cmap=cm)\n",
    "ax0.set_xlabel(\"Dissimilarity\",fontsize=25)\n",
    "ax0.set_ylabel(\"Correlation\",fontsize=25)\n",
    "ax1 = plt.subplot(132)\n",
    "ax1.scatter(contrast, energy, c=legend, cmap=cm)\n",
    "ax1.set_xlabel(\"Contrast\",fontsize=25)\n",
    "ax1.set_ylabel(\"Energy\",fontsize=25)\n",
    "ax2 = plt.subplot(133)\n",
    "ax2.scatter(diss, homog, c=legend, cmap=cm)\n",
    "ax2.set_xlabel(\"Dissimilarity\",fontsize=25)\n",
    "ax2.set_ylabel(\"Homogeneity\",fontsize=25)\n",
    "\n",
    "plt.show()"
   ]
  }
 ],
 "metadata": {
  "kernelspec": {
   "display_name": "Python 3",
   "language": "python",
   "name": "python3"
  },
  "language_info": {
   "codemirror_mode": {
    "name": "ipython",
    "version": 3
   },
   "file_extension": ".py",
   "mimetype": "text/x-python",
   "name": "python",
   "nbconvert_exporter": "python",
   "pygments_lexer": "ipython3",
   "version": "3.6.3"
  }
 },
 "nbformat": 4,
 "nbformat_minor": 2
}
